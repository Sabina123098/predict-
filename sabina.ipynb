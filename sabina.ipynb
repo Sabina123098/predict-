{
 "cells": [
  {
   "cell_type": "code",
   "execution_count": 191,
   "id": "5891683c-a5ca-4832-9d97-2d44b1a199a6",
   "metadata": {},
   "outputs": [],
   "source": [
    "import pandas as pd\n",
    "import numpy as np\n",
    "import matplotlib.pyplot as plt\n",
    "%matplotlib inline\n",
    "import seaborn as sns\n",
    "import matplotlib.pyplot as plt\n",
    "\n"
   ]
  },
  {
   "cell_type": "code",
   "execution_count": 2,
   "id": "0c535fc6-e447-4065-bbc2-95f5ac55501c",
   "metadata": {},
   "outputs": [],
   "source": [
    "import os"
   ]
  },
  {
   "cell_type": "code",
   "execution_count": 3,
   "id": "8ec8ea2d-247c-45be-8ba9-c7275833344f",
   "metadata": {},
   "outputs": [
    {
     "data": {
      "text/plain": [
       "'C:\\\\Users\\\\Sikkim'"
      ]
     },
     "execution_count": 3,
     "metadata": {},
     "output_type": "execute_result"
    }
   ],
   "source": [
    "os.getcwd()"
   ]
  },
  {
   "cell_type": "code",
   "execution_count": 4,
   "id": "297585d3-9c00-447d-8214-9954c0d0337d",
   "metadata": {},
   "outputs": [],
   "source": [
    "os.chdir(\"C:\\\\Users\\\\Sikkim\\\\Downloads\")"
   ]
  },
  {
   "cell_type": "code",
   "execution_count": 5,
   "id": "8250180a-8f28-41f4-b870-bb989009e8da",
   "metadata": {},
   "outputs": [],
   "source": [
    "dataset= pd.read_csv(\"50_Startup.csv\")"
   ]
  },
  {
   "cell_type": "code",
   "execution_count": 6,
   "id": "5f043de0-b871-4e13-b7c9-56933ef73e82",
   "metadata": {},
   "outputs": [
    {
     "data": {
      "text/html": [
       "<div>\n",
       "<style scoped>\n",
       "    .dataframe tbody tr th:only-of-type {\n",
       "        vertical-align: middle;\n",
       "    }\n",
       "\n",
       "    .dataframe tbody tr th {\n",
       "        vertical-align: top;\n",
       "    }\n",
       "\n",
       "    .dataframe thead th {\n",
       "        text-align: right;\n",
       "    }\n",
       "</style>\n",
       "<table border=\"1\" class=\"dataframe\">\n",
       "  <thead>\n",
       "    <tr style=\"text-align: right;\">\n",
       "      <th></th>\n",
       "      <th>R&amp;D Spend</th>\n",
       "      <th>Administration</th>\n",
       "      <th>Marketing Spend</th>\n",
       "      <th>Profit</th>\n",
       "    </tr>\n",
       "  </thead>\n",
       "  <tbody>\n",
       "    <tr>\n",
       "      <th>0</th>\n",
       "      <td>165349.20</td>\n",
       "      <td>136897.80</td>\n",
       "      <td>471784.10</td>\n",
       "      <td>192261.83</td>\n",
       "    </tr>\n",
       "    <tr>\n",
       "      <th>1</th>\n",
       "      <td>162597.70</td>\n",
       "      <td>151377.59</td>\n",
       "      <td>443898.53</td>\n",
       "      <td>191792.06</td>\n",
       "    </tr>\n",
       "    <tr>\n",
       "      <th>2</th>\n",
       "      <td>153441.51</td>\n",
       "      <td>101145.55</td>\n",
       "      <td>407934.54</td>\n",
       "      <td>191050.39</td>\n",
       "    </tr>\n",
       "    <tr>\n",
       "      <th>3</th>\n",
       "      <td>144372.41</td>\n",
       "      <td>118671.85</td>\n",
       "      <td>383199.62</td>\n",
       "      <td>182901.99</td>\n",
       "    </tr>\n",
       "    <tr>\n",
       "      <th>4</th>\n",
       "      <td>142107.34</td>\n",
       "      <td>91391.77</td>\n",
       "      <td>366168.42</td>\n",
       "      <td>166187.94</td>\n",
       "    </tr>\n",
       "  </tbody>\n",
       "</table>\n",
       "</div>"
      ],
      "text/plain": [
       "   R&D Spend  Administration  Marketing Spend     Profit\n",
       "0  165349.20       136897.80        471784.10  192261.83\n",
       "1  162597.70       151377.59        443898.53  191792.06\n",
       "2  153441.51       101145.55        407934.54  191050.39\n",
       "3  144372.41       118671.85        383199.62  182901.99\n",
       "4  142107.34        91391.77        366168.42  166187.94"
      ]
     },
     "execution_count": 6,
     "metadata": {},
     "output_type": "execute_result"
    }
   ],
   "source": [
    "dataset.head()"
   ]
  },
  {
   "cell_type": "code",
   "execution_count": 7,
   "id": "c01183b7-bfab-4980-89ba-be98bc55d436",
   "metadata": {},
   "outputs": [
    {
     "data": {
      "text/plain": [
       "(50, 4)"
      ]
     },
     "execution_count": 7,
     "metadata": {},
     "output_type": "execute_result"
    }
   ],
   "source": [
    "dataset.shape"
   ]
  },
  {
   "cell_type": "code",
   "execution_count": null,
   "id": "615d7ac2-812b-4f9a-8e32-a8f00310c7fe",
   "metadata": {},
   "outputs": [],
   "source": []
  },
  {
   "cell_type": "code",
   "execution_count": 9,
   "id": "5bb785e5-a0a7-4b6f-adbe-5924287b298a",
   "metadata": {},
   "outputs": [
    {
     "data": {
      "text/plain": [
       "Index(['R&D Spend', 'Administration', 'Marketing Spend', 'Profit'], dtype='object')"
      ]
     },
     "execution_count": 9,
     "metadata": {},
     "output_type": "execute_result"
    }
   ],
   "source": [
    "dataset.columns"
   ]
  },
  {
   "cell_type": "code",
   "execution_count": 10,
   "id": "6c0d3045-994e-4b30-8309-f771773315f2",
   "metadata": {},
   "outputs": [
    {
     "data": {
      "text/plain": [
       "R&D Spend          float64\n",
       "Administration     float64\n",
       "Marketing Spend    float64\n",
       "Profit             float64\n",
       "dtype: object"
      ]
     },
     "execution_count": 10,
     "metadata": {},
     "output_type": "execute_result"
    }
   ],
   "source": [
    "dataset.dtypes"
   ]
  },
  {
   "cell_type": "code",
   "execution_count": 11,
   "id": "5da9f71a-6f9e-45f5-92a8-c808c53cdf4d",
   "metadata": {},
   "outputs": [
    {
     "data": {
      "text/plain": [
       "R&D Spend          0\n",
       "Administration     0\n",
       "Marketing Spend    0\n",
       "Profit             0\n",
       "dtype: int64"
      ]
     },
     "execution_count": 11,
     "metadata": {},
     "output_type": "execute_result"
    }
   ],
   "source": [
    "dataset.isnull().sum()"
   ]
  },
  {
   "cell_type": "code",
   "execution_count": 12,
   "id": "011d75c1-6747-420c-8534-daa62e0f6074",
   "metadata": {},
   "outputs": [],
   "source": [
    "from sklearn.model_selection import train_test_split"
   ]
  },
  {
   "cell_type": "code",
   "execution_count": 13,
   "id": "7fa78a72-cf32-47e6-8da7-4ee125d2eed1",
   "metadata": {},
   "outputs": [],
   "source": [
    "x = dataset[['R&D Spend', 'Administration', 'Marketing Spend']]\n",
    "y = dataset['Profit']"
   ]
  },
  {
   "cell_type": "code",
   "execution_count": 14,
   "id": "785a5718-4056-487a-ac33-caab181b4c99",
   "metadata": {},
   "outputs": [],
   "source": [
    "x_train, x_test, y_train, y_test = train_test_split(x,y, test_size= 0.2,random_state= 42)"
   ]
  },
  {
   "cell_type": "code",
   "execution_count": 15,
   "id": "820ed5ce-b646-414c-9ac2-0cb341a4cdb3",
   "metadata": {},
   "outputs": [
    {
     "data": {
      "text/plain": [
       "((40, 3), (40,))"
      ]
     },
     "execution_count": 15,
     "metadata": {},
     "output_type": "execute_result"
    }
   ],
   "source": [
    "x_train.shape, y_train.shape"
   ]
  },
  {
   "cell_type": "code",
   "execution_count": 16,
   "id": "48a8a226-8675-4b80-b680-ab299c621535",
   "metadata": {},
   "outputs": [
    {
     "data": {
      "text/plain": [
       "((10, 3), (10, 3))"
      ]
     },
     "execution_count": 16,
     "metadata": {},
     "output_type": "execute_result"
    }
   ],
   "source": [
    "x_test.shape, x_test.shape"
   ]
  },
  {
   "cell_type": "code",
   "execution_count": 17,
   "id": "765c2f31-73e1-450b-868e-c4a030e2894c",
   "metadata": {},
   "outputs": [
    {
     "data": {
      "text/plain": [
       "<Axes: ylabel='Frequency'>"
      ]
     },
     "execution_count": 17,
     "metadata": {},
     "output_type": "execute_result"
    },
    {
     "data": {
      "image/png": "[encoded data removed]",
      "text/plain": [
       "<Figure size 640x480 with 1 Axes>"
      ]
     },
     "metadata": {},
     "output_type": "display_data"
    }
   ],
   "source": [
    "dataset['R&D Spend'].value_counts().plot(kind ='hist')"
   ]
  },
  {
   "cell_type": "code",
   "execution_count": 18,
   "id": "b6de8727-9458-4dcb-8be7-7d2ec4ec25a8",
   "metadata": {},
   "outputs": [
    {
     "data": {
      "text/plain": [
       "<Axes: ylabel='Frequency'>"
      ]
     },
     "execution_count": 18,
     "metadata": {},
     "output_type": "execute_result"
    },
    {
     "data": {
      "image/png": "[encoded data removed]",
      "text/plain": [
       "<Figure size 640x480 with 1 Axes>"
      ]
     },
     "metadata": {},
     "output_type": "display_data"
    }
   ],
   "source": [
    "dataset['Administration'].value_counts().plot(kind ='hist')"
   ]
  },
  {
   "cell_type": "code",
   "execution_count": 19,
   "id": "1db79851-44ab-4463-82e6-a11f104acc21",
   "metadata": {},
   "outputs": [
    {
     "data": {
      "text/plain": [
       "<Axes: ylabel='Frequency'>"
      ]
     },
     "execution_count": 19,
     "metadata": {},
     "output_type": "execute_result"
    },
    {
     "data": {
      "image/png": "[encoded data removed]",
      "text/plain": [
       "<Figure size 640x480 with 1 Axes>"
      ]
     },
     "metadata": {},
     "output_type": "display_data"
    }
   ],
   "source": [
    "dataset['Marketing Spend'].value_counts().plot(kind ='hist')"
   ]
  },
  {
   "cell_type": "code",
   "execution_count": 20,
   "id": "7370e8cf-62cb-48fe-8b3f-d54ff3e1ed54",
   "metadata": {},
   "outputs": [
    {
     "data": {
      "text/plain": [
       "<Axes: ylabel='Frequency'>"
      ]
     },
     "execution_count": 20,
     "metadata": {},
     "output_type": "execute_result"
    },
    {
     "data": {
      "image/png": "[encoded data removed]",
      "text/plain": [
       "<Figure size 640x480 with 1 Axes>"
      ]
     },
     "metadata": {},
     "output_type": "display_data"
    }
   ],
   "source": [
    "dataset['Profit'].value_counts().plot(kind ='hist')"
   ]
  },
  {
   "cell_type": "code",
   "execution_count": 21,
   "id": "20068a6d-4289-4789-a545-fbccaabb6187",
   "metadata": {},
   "outputs": [],
   "source": [
    "#CORRLATION MATRIX"
   ]
  },
  {
   "cell_type": "code",
   "execution_count": 22,
   "id": "37fd5c4e-4566-42da-a2c7-c9197a94f555",
   "metadata": {},
   "outputs": [
    {
     "data": {
      "text/html": [
       "<div>\n",
       "<style scoped>\n",
       "    .dataframe tbody tr th:only-of-type {\n",
       "        vertical-align: middle;\n",
       "    }\n",
       "\n",
       "    .dataframe tbody tr th {\n",
       "        vertical-align: top;\n",
       "    }\n",
       "\n",
       "    .dataframe thead th {\n",
       "        text-align: right;\n",
       "    }\n",
       "</style>\n",
       "<table border=\"1\" class=\"dataframe\">\n",
       "  <thead>\n",
       "    <tr style=\"text-align: right;\">\n",
       "      <th></th>\n",
       "      <th>R&amp;D Spend</th>\n",
       "      <th>Administration</th>\n",
       "      <th>Marketing Spend</th>\n",
       "      <th>Profit</th>\n",
       "    </tr>\n",
       "  </thead>\n",
       "  <tbody>\n",
       "    <tr>\n",
       "      <th>R&amp;D Spend</th>\n",
       "      <td>1.000000</td>\n",
       "      <td>0.241955</td>\n",
       "      <td>0.724248</td>\n",
       "      <td>0.972900</td>\n",
       "    </tr>\n",
       "    <tr>\n",
       "      <th>Administration</th>\n",
       "      <td>0.241955</td>\n",
       "      <td>1.000000</td>\n",
       "      <td>-0.032154</td>\n",
       "      <td>0.200717</td>\n",
       "    </tr>\n",
       "    <tr>\n",
       "      <th>Marketing Spend</th>\n",
       "      <td>0.724248</td>\n",
       "      <td>-0.032154</td>\n",
       "      <td>1.000000</td>\n",
       "      <td>0.747766</td>\n",
       "    </tr>\n",
       "    <tr>\n",
       "      <th>Profit</th>\n",
       "      <td>0.972900</td>\n",
       "      <td>0.200717</td>\n",
       "      <td>0.747766</td>\n",
       "      <td>1.000000</td>\n",
       "    </tr>\n",
       "  </tbody>\n",
       "</table>\n",
       "</div>"
      ],
      "text/plain": [
       "                 R&D Spend  Administration  Marketing Spend    Profit\n",
       "R&D Spend         1.000000        0.241955         0.724248  0.972900\n",
       "Administration    0.241955        1.000000        -0.032154  0.200717\n",
       "Marketing Spend   0.724248       -0.032154         1.000000  0.747766\n",
       "Profit            0.972900        0.200717         0.747766  1.000000"
      ]
     },
     "execution_count": 22,
     "metadata": {},
     "output_type": "execute_result"
    }
   ],
   "source": [
    "corr = dataset[['R&D Spend', 'Administration', 'Marketing Spend', 'Profit']].corr()\n",
    "corr"
   ]
  },
  {
   "cell_type": "code",
   "execution_count": 23,
   "id": "a785271c-1fb5-4892-a581-b9dad861503b",
   "metadata": {},
   "outputs": [
    {
     "data": {
      "text/plain": [
       "<Axes: >"
      ]
     },
     "execution_count": 23,
     "metadata": {},
     "output_type": "execute_result"
    },
    {
     "data": {
      "image/png": "[encoded data removed]",
      "text/plain": [
       "<Figure size 640x480 with 2 Axes>"
      ]
     },
     "metadata": {},
     "output_type": "display_data"
    }
   ],
   "source": [
    "sns.heatmap(corr, annot= True)"
   ]
  },
  {
   "cell_type": "code",
   "execution_count": 24,
   "id": "e7edda6c-5a96-4af0-96c6-bdc8d45e144e",
   "metadata": {},
   "outputs": [],
   "source": [
    "#LINEAR REGRESSION MODELING\n"
   ]
  },
  {
   "cell_type": "code",
   "execution_count": 25,
   "id": "4d80e921-d0ac-4d88-a2fc-43cbc9c3a8c8",
   "metadata": {},
   "outputs": [],
   "source": [
    "from sklearn.linear_model import LinearRegression"
   ]
  },
  {
   "cell_type": "code",
   "execution_count": 26,
   "id": "c44abc8a-420c-43d3-9534-c9a45f2ed882",
   "metadata": {},
   "outputs": [],
   "source": [
    "Linear_regression_model = LinearRegression()"
   ]
  },
  {
   "cell_type": "code",
   "execution_count": 27,
   "id": "d1fa1868-4fb4-4c61-bac2-ccb3dee57778",
   "metadata": {},
   "outputs": [
    {
     "data": {
      "text/html": [
       "<style>#sk-container-id-1 {\n",
       "  /* Definition of color scheme common for light and dark mode */\n",
       "  --sklearn-color-text: black;\n",
       "  --sklearn-color-line: gray;\n",
       "  /* Definition of color scheme for unfitted estimators */\n",
       "  --sklearn-color-unfitted-level-0: #fff5e6;\n",
       "  --sklearn-color-unfitted-level-1: #f6e4d2;\n",
       "  --sklearn-color-unfitted-level-2: #ffe0b3;\n",
       "  --sklearn-color-unfitted-level-3: chocolate;\n",
       "  /* Definition of color scheme for fitted estimators */\n",
       "  --sklearn-color-fitted-level-0: #f0f8ff;\n",
       "  --sklearn-color-fitted-level-1: #d4ebff;\n",
       "  --sklearn-color-fitted-level-2: #b3dbfd;\n",
       "  --sklearn-color-fitted-level-3: cornflowerblue;\n",
       "\n",
       "  /* Specific color for light theme */\n",
       "  --sklearn-color-text-on-default-background: var(--sg-text-color, var(--theme-code-foreground, var(--jp-content-font-color1, black)));\n",
       "  --sklearn-color-background: var(--sg-background-color, var(--theme-background, var(--jp-layout-color0, white)));\n",
       "  --sklearn-color-border-box: var(--sg-text-color, var(--theme-code-foreground, var(--jp-content-font-color1, black)));\n",
       "  --sklearn-color-icon: #696969;\n",
       "\n",
       "  @media (prefers-color-scheme: dark) {\n",
       "    /* Redefinition of color scheme for dark theme */\n",
       "    --sklearn-color-text-on-default-background: var(--sg-text-color, var(--theme-code-foreground, var(--jp-content-font-color1, white)));\n",
       "    --sklearn-color-background: var(--sg-background-color, var(--theme-background, var(--jp-layout-color0, #111)));\n",
       "    --sklearn-color-border-box: var(--sg-text-color, var(--theme-code-foreground, var(--jp-content-font-color1, white)));\n",
       "    --sklearn-color-icon: #878787;\n",
       "  }\n",
       "}\n",
       "\n",
       "#sk-container-id-1 {\n",
       "  color: var(--sklearn-color-text);\n",
       "}\n",
       "\n",
       "#sk-container-id-1 pre {\n",
       "  padding: 0;\n",
       "}\n",
       "\n",
       "#sk-container-id-1 input.sk-hidden--visually {\n",
       "  border: 0;\n",
       "  clip: rect(1px 1px 1px 1px);\n",
       "  clip: rect(1px, 1px, 1px, 1px);\n",
       "  height: 1px;\n",
       "  margin: -1px;\n",
       "  overflow: hidden;\n",
       "  padding: 0;\n",
       "  position: absolute;\n",
       "  width: 1px;\n",
       "}\n",
       "\n",
       "#sk-container-id-1 div.sk-dashed-wrapped {\n",
       "  border: 1px dashed var(--sklearn-color-line);\n",
       "  margin: 0 0.4em 0.5em 0.4em;\n",
       "  box-sizing: border-box;\n",
       "  padding-bottom: 0.4em;\n",
       "  background-color: var(--sklearn-color-background);\n",
       "}\n",
       "\n",
       "#sk-container-id-1 div.sk-container {\n",
       "  /* jupyter's `normalize.less` sets `[hidden] { display: none; }`\n",
       "     but bootstrap.min.css set `[hidden] { display: none !important; }`\n",
       "     so we also need the `!important` here to be able to override the\n",
       "     default hidden behavior on the sphinx rendered scikit-learn.org.\n",
       "     See: https://github.com/scikit-learn/scikit-learn/issues/21755 */\n",
       "  display: inline-block !important;\n",
       "  position: relative;\n",
       "}\n",
       "\n",
       "#sk-container-id-1 div.sk-text-repr-fallback {\n",
       "  display: none;\n",
       "}\n",
       "\n",
       "div.sk-parallel-item,\n",
       "div.sk-serial,\n",
       "div.sk-item {\n",
       "  /* draw centered vertical line to link estimators */\n",
       "  background-image: linear-gradient(var(--sklearn-color-text-on-default-background), var(--sklearn-color-text-on-default-background));\n",
       "  background-size: 2px 100%;\n",
       "  background-repeat: no-repeat;\n",
       "  background-position: center center;\n",
       "}\n",
       "\n",
       "/* Parallel-specific style estimator block */\n",
       "\n",
       "#sk-container-id-1 div.sk-parallel-item::after {\n",
       "  content: \"\";\n",
       "  width: 100%;\n",
       "  border-bottom: 2px solid var(--sklearn-color-text-on-default-background);\n",
       "  flex-grow: 1;\n",
       "}\n",
       "\n",
       "#sk-container-id-1 div.sk-parallel {\n",
       "  display: flex;\n",
       "  align-items: stretch;\n",
       "  justify-content: center;\n",
       "  background-color: var(--sklearn-color-background);\n",
       "  position: relative;\n",
       "}\n",
       "\n",
       "#sk-container-id-1 div.sk-parallel-item {\n",
       "  display: flex;\n",
       "  flex-direction: column;\n",
       "}\n",
       "\n",
       "#sk-container-id-1 div.sk-parallel-item:first-child::after {\n",
       "  align-self: flex-end;\n",
       "  width: 50%;\n",
       "}\n",
       "\n",
       "#sk-container-id-1 div.sk-parallel-item:last-child::after {\n",
       "  align-self: flex-start;\n",
       "  width: 50%;\n",
       "}\n",
       "\n",
       "#sk-container-id-1 div.sk-parallel-item:only-child::after {\n",
       "  width: 0;\n",
       "}\n",
       "\n",
       "/* Serial-specific style estimator block */\n",
       "\n",
       "#sk-container-id-1 div.sk-serial {\n",
       "  display: flex;\n",
       "  flex-direction: column;\n",
       "  align-items: center;\n",
       "  background-color: var(--sklearn-color-background);\n",
       "  padding-right: 1em;\n",
       "  padding-left: 1em;\n",
       "}\n",
       "\n",
       "\n",
       "/* Toggleable style: style used for estimator/Pipeline/ColumnTransformer box that is\n",
       "clickable and can be expanded/collapsed.\n",
       "- Pipeline and ColumnTransformer use this feature and define the default style\n",
       "- Estimators will overwrite some part of the style using the `sk-estimator` class\n",
       "*/\n",
       "\n",
       "/* Pipeline and ColumnTransformer style (default) */\n",
       "\n",
       "#sk-container-id-1 div.sk-toggleable {\n",
       "  /* Default theme specific background. It is overwritten whether we have a\n",
       "  specific estimator or a Pipeline/ColumnTransformer */\n",
       "  background-color: var(--sklearn-color-background);\n",
       "}\n",
       "\n",
       "/* Toggleable label */\n",
       "#sk-container-id-1 label.sk-toggleable__label {\n",
       "  cursor: pointer;\n",
       "  display: block;\n",
       "  width: 100%;\n",
       "  margin-bottom: 0;\n",
       "  padding: 0.5em;\n",
       "  box-sizing: border-box;\n",
       "  text-align: center;\n",
       "}\n",
       "\n",
       "#sk-container-id-1 label.sk-toggleable__label-arrow:before {\n",
       "  /* Arrow on the left of the label */\n",
       "  content: \"▸\";\n",
       "  float: left;\n",
       "  margin-right: 0.25em;\n",
       "  color: var(--sklearn-color-icon);\n",
       "}\n",
       "\n",
       "#sk-container-id-1 label.sk-toggleable__label-arrow:hover:before {\n",
       "  color: var(--sklearn-color-text);\n",
       "}\n",
       "\n",
       "/* Toggleable content - dropdown */\n",
       "\n",
       "#sk-container-id-1 div.sk-toggleable__content {\n",
       "  max-height: 0;\n",
       "  max-width: 0;\n",
       "  overflow: hidden;\n",
       "  text-align: left;\n",
       "  /* unfitted */\n",
       "  background-color: var(--sklearn-color-unfitted-level-0);\n",
       "}\n",
       "\n",
       "#sk-container-id-1 div.sk-toggleable__content.fitted {\n",
       "  /* fitted */\n",
       "  background-color: var(--sklearn-color-fitted-level-0);\n",
       "}\n",
       "\n",
       "#sk-container-id-1 div.sk-toggleable__content pre {\n",
       "  margin: 0.2em;\n",
       "  border-radius: 0.25em;\n",
       "  color: var(--sklearn-color-text);\n",
       "  /* unfitted */\n",
       "  background-color: var(--sklearn-color-unfitted-level-0);\n",
       "}\n",
       "\n",
       "#sk-container-id-1 div.sk-toggleable__content.fitted pre {\n",
       "  /* unfitted */\n",
       "  background-color: var(--sklearn-color-fitted-level-0);\n",
       "}\n",
       "\n",
       "#sk-container-id-1 input.sk-toggleable__control:checked~div.sk-toggleable__content {\n",
       "  /* Expand drop-down */\n",
       "  max-height: 200px;\n",
       "  max-width: 100%;\n",
       "  overflow: auto;\n",
       "}\n",
       "\n",
       "#sk-container-id-1 input.sk-toggleable__control:checked~label.sk-toggleable__label-arrow:before {\n",
       "  content: \"▾\";\n",
       "}\n",
       "\n",
       "/* Pipeline/ColumnTransformer-specific style */\n",
       "\n",
       "#sk-container-id-1 div.sk-label input.sk-toggleable__control:checked~label.sk-toggleable__label {\n",
       "  color: var(--sklearn-color-text);\n",
       "  background-color: var(--sklearn-color-unfitted-level-2);\n",
       "}\n",
       "\n",
       "#sk-container-id-1 div.sk-label.fitted input.sk-toggleable__control:checked~label.sk-toggleable__label {\n",
       "  background-color: var(--sklearn-color-fitted-level-2);\n",
       "}\n",
       "\n",
       "/* Estimator-specific style */\n",
       "\n",
       "/* Colorize estimator box */\n",
       "#sk-container-id-1 div.sk-estimator input.sk-toggleable__control:checked~label.sk-toggleable__label {\n",
       "  /* unfitted */\n",
       "  background-color: var(--sklearn-color-unfitted-level-2);\n",
       "}\n",
       "\n",
       "#sk-container-id-1 div.sk-estimator.fitted input.sk-toggleable__control:checked~label.sk-toggleable__label {\n",
       "  /* fitted */\n",
       "  background-color: var(--sklearn-color-fitted-level-2);\n",
       "}\n",
       "\n",
       "#sk-container-id-1 div.sk-label label.sk-toggleable__label,\n",
       "#sk-container-id-1 div.sk-label label {\n",
       "  /* The background is the default theme color */\n",
       "  color: var(--sklearn-color-text-on-default-background);\n",
       "}\n",
       "\n",
       "/* On hover, darken the color of the background */\n",
       "#sk-container-id-1 div.sk-label:hover label.sk-toggleable__label {\n",
       "  color: var(--sklearn-color-text);\n",
       "  background-color: var(--sklearn-color-unfitted-level-2);\n",
       "}\n",
       "\n",
       "/* Label box, darken color on hover, fitted */\n",
       "#sk-container-id-1 div.sk-label.fitted:hover label.sk-toggleable__label.fitted {\n",
       "  color: var(--sklearn-color-text);\n",
       "  background-color: var(--sklearn-color-fitted-level-2);\n",
       "}\n",
       "\n",
       "/* Estimator label */\n",
       "\n",
       "#sk-container-id-1 div.sk-label label {\n",
       "  font-family: monospace;\n",
       "  font-weight: bold;\n",
       "  display: inline-block;\n",
       "  line-height: 1.2em;\n",
       "}\n",
       "\n",
       "#sk-container-id-1 div.sk-label-container {\n",
       "  text-align: center;\n",
       "}\n",
       "\n",
       "/* Estimator-specific */\n",
       "#sk-container-id-1 div.sk-estimator {\n",
       "  font-family: monospace;\n",
       "  border: 1px dotted var(--sklearn-color-border-box);\n",
       "  border-radius: 0.25em;\n",
       "  box-sizing: border-box;\n",
       "  margin-bottom: 0.5em;\n",
       "  /* unfitted */\n",
       "  background-color: var(--sklearn-color-unfitted-level-0);\n",
       "}\n",
       "\n",
       "#sk-container-id-1 div.sk-estimator.fitted {\n",
       "  /* fitted */\n",
       "  background-color: var(--sklearn-color-fitted-level-0);\n",
       "}\n",
       "\n",
       "/* on hover */\n",
       "#sk-container-id-1 div.sk-estimator:hover {\n",
       "  /* unfitted */\n",
       "  background-color: var(--sklearn-color-unfitted-level-2);\n",
       "}\n",
       "\n",
       "#sk-container-id-1 div.sk-estimator.fitted:hover {\n",
       "  /* fitted */\n",
       "  background-color: var(--sklearn-color-fitted-level-2);\n",
       "}\n",
       "\n",
       "/* Specification for estimator info (e.g. \"i\" and \"?\") */\n",
       "\n",
       "/* Common style for \"i\" and \"?\" */\n",
       "\n",
       ".sk-estimator-doc-link,\n",
       "a:link.sk-estimator-doc-link,\n",
       "a:visited.sk-estimator-doc-link {\n",
       "  float: right;\n",
       "  font-size: smaller;\n",
       "  line-height: 1em;\n",
       "  font-family: monospace;\n",
       "  background-color: var(--sklearn-color-background);\n",
       "  border-radius: 1em;\n",
       "  height: 1em;\n",
       "  width: 1em;\n",
       "  text-decoration: none !important;\n",
       "  margin-left: 1ex;\n",
       "  /* unfitted */\n",
       "  border: var(--sklearn-color-unfitted-level-1) 1pt solid;\n",
       "  color: var(--sklearn-color-unfitted-level-1);\n",
       "}\n",
       "\n",
       ".sk-estimator-doc-link.fitted,\n",
       "a:link.sk-estimator-doc-link.fitted,\n",
       "a:visited.sk-estimator-doc-link.fitted {\n",
       "  /* fitted */\n",
       "  border: var(--sklearn-color-fitted-level-1) 1pt solid;\n",
       "  color: var(--sklearn-color-fitted-level-1);\n",
       "}\n",
       "\n",
       "/* On hover */\n",
       "div.sk-estimator:hover .sk-estimator-doc-link:hover,\n",
       ".sk-estimator-doc-link:hover,\n",
       "div.sk-label-container:hover .sk-estimator-doc-link:hover,\n",
       ".sk-estimator-doc-link:hover {\n",
       "  /* unfitted */\n",
       "  background-color: var(--sklearn-color-unfitted-level-3);\n",
       "  color: var(--sklearn-color-background);\n",
       "  text-decoration: none;\n",
       "}\n",
       "\n",
       "div.sk-estimator.fitted:hover .sk-estimator-doc-link.fitted:hover,\n",
       ".sk-estimator-doc-link.fitted:hover,\n",
       "div.sk-label-container:hover .sk-estimator-doc-link.fitted:hover,\n",
       ".sk-estimator-doc-link.fitted:hover {\n",
       "  /* fitted */\n",
       "  background-color: var(--sklearn-color-fitted-level-3);\n",
       "  color: var(--sklearn-color-background);\n",
       "  text-decoration: none;\n",
       "}\n",
       "\n",
       "/* Span, style for the box shown on hovering the info icon */\n",
       ".sk-estimator-doc-link span {\n",
       "  display: none;\n",
       "  z-index: 9999;\n",
       "  position: relative;\n",
       "  font-weight: normal;\n",
       "  right: .2ex;\n",
       "  padding: .5ex;\n",
       "  margin: .5ex;\n",
       "  width: min-content;\n",
       "  min-width: 20ex;\n",
       "  max-width: 50ex;\n",
       "  color: var(--sklearn-color-text);\n",
       "  box-shadow: 2pt 2pt 4pt #999;\n",
       "  /* unfitted */\n",
       "  background: var(--sklearn-color-unfitted-level-0);\n",
       "  border: .5pt solid var(--sklearn-color-unfitted-level-3);\n",
       "}\n",
       "\n",
       ".sk-estimator-doc-link.fitted span {\n",
       "  /* fitted */\n",
       "  background: var(--sklearn-color-fitted-level-0);\n",
       "  border: var(--sklearn-color-fitted-level-3);\n",
       "}\n",
       "\n",
       ".sk-estimator-doc-link:hover span {\n",
       "  display: block;\n",
       "}\n",
       "\n",
       "/* \"?\"-specific style due to the `<a>` HTML tag */\n",
       "\n",
       "#sk-container-id-1 a.estimator_doc_link {\n",
       "  float: right;\n",
       "  font-size: 1rem;\n",
       "  line-height: 1em;\n",
       "  font-family: monospace;\n",
       "  background-color: var(--sklearn-color-background);\n",
       "  border-radius: 1rem;\n",
       "  height: 1rem;\n",
       "  width: 1rem;\n",
       "  text-decoration: none;\n",
       "  /* unfitted */\n",
       "  color: var(--sklearn-color-unfitted-level-1);\n",
       "  border: var(--sklearn-color-unfitted-level-1) 1pt solid;\n",
       "}\n",
       "\n",
       "#sk-container-id-1 a.estimator_doc_link.fitted {\n",
       "  /* fitted */\n",
       "  border: var(--sklearn-color-fitted-level-1) 1pt solid;\n",
       "  color: var(--sklearn-color-fitted-level-1);\n",
       "}\n",
       "\n",
       "/* On hover */\n",
       "#sk-container-id-1 a.estimator_doc_link:hover {\n",
       "  /* unfitted */\n",
       "  background-color: var(--sklearn-color-unfitted-level-3);\n",
       "  color: var(--sklearn-color-background);\n",
       "  text-decoration: none;\n",
       "}\n",
       "\n",
       "#sk-container-id-1 a.estimator_doc_link.fitted:hover {\n",
       "  /* fitted */\n",
       "  background-color: var(--sklearn-color-fitted-level-3);\n",
       "}\n",
       "</style><div id=\"sk-container-id-1\" class=\"sk-top-container\"><div class=\"sk-text-repr-fallback\"><pre>LinearRegression()</pre><b>In a Jupyter environment, please rerun this cell to show the HTML representation or trust the notebook. <br />On GitHub, the HTML representation is unable to render, please try loading this page with nbviewer.org.</b></div><div class=\"sk-container\" hidden><div class=\"sk-item\"><div class=\"sk-estimator fitted sk-toggleable\"><input class=\"sk-toggleable__control sk-hidden--visually\" id=\"sk-estimator-id-1\" type=\"checkbox\" checked><label for=\"sk-estimator-id-1\" class=\"sk-toggleable__label fitted sk-toggleable__label-arrow fitted\">&nbsp;&nbsp;LinearRegression<a class=\"sk-estimator-doc-link fitted\" rel=\"noreferrer\" target=\"_blank\" href=\"https://scikit-learn.org/1.4/modules/generated/sklearn.linear_model.LinearRegression.html\">?<span>Documentation for LinearRegression</span></a><span class=\"sk-estimator-doc-link fitted\">i<span>Fitted</span></span></label><div class=\"sk-toggleable__content fitted\"><pre>LinearRegression()</pre></div> </div></div></div></div>"
      ],
      "text/plain": [
       "LinearRegression()"
      ]
     },
     "execution_count": 27,
     "metadata": {},
     "output_type": "execute_result"
    }
   ],
   "source": [
    "Linear_regression_model.fit(x_train, y_train)"
   ]
  },
  {
   "cell_type": "code",
   "execution_count": 28,
   "id": "556dfb05-2f68-4664-a9aa-b764012fee35",
   "metadata": {},
   "outputs": [
    {
     "data": {
      "text/plain": [
       "array([126703.02716461,  84894.75081556,  98893.41815974,  46501.70815036,\n",
       "       129128.39734381,  50992.69486261, 109016.5536578 , 100878.4641454 ,\n",
       "        97700.59638629, 113106.15292226])"
      ]
     },
     "execution_count": 28,
     "metadata": {},
     "output_type": "execute_result"
    }
   ],
   "source": [
    "y_pred_lr = Linear_regression_model.predict(x_test)\n",
    "y_pred_lr"
   ]
  },
  {
   "cell_type": "code",
   "execution_count": 29,
   "id": "5db8d6d2-05cf-44fa-8a8d-5e422e992296",
   "metadata": {},
   "outputs": [
    {
     "data": {
      "text/html": [
       "<div>\n",
       "<style scoped>\n",
       "    .dataframe tbody tr th:only-of-type {\n",
       "        vertical-align: middle;\n",
       "    }\n",
       "\n",
       "    .dataframe tbody tr th {\n",
       "        vertical-align: top;\n",
       "    }\n",
       "\n",
       "    .dataframe thead th {\n",
       "        text-align: right;\n",
       "    }\n",
       "</style>\n",
       "<table border=\"1\" class=\"dataframe\">\n",
       "  <thead>\n",
       "    <tr style=\"text-align: right;\">\n",
       "      <th></th>\n",
       "      <th>y_Actual</th>\n",
       "      <th>y_Predicted</th>\n",
       "      <th>Error</th>\n",
       "      <th>abs_error</th>\n",
       "    </tr>\n",
       "  </thead>\n",
       "  <tbody>\n",
       "    <tr>\n",
       "      <th>13</th>\n",
       "      <td>134307.35</td>\n",
       "      <td>126703.027165</td>\n",
       "      <td>7604.322835</td>\n",
       "      <td>7604.322835</td>\n",
       "    </tr>\n",
       "    <tr>\n",
       "      <th>39</th>\n",
       "      <td>81005.76</td>\n",
       "      <td>84894.750816</td>\n",
       "      <td>-3888.990816</td>\n",
       "      <td>3888.990816</td>\n",
       "    </tr>\n",
       "    <tr>\n",
       "      <th>30</th>\n",
       "      <td>99937.59</td>\n",
       "      <td>98893.418160</td>\n",
       "      <td>1044.171840</td>\n",
       "      <td>1044.171840</td>\n",
       "    </tr>\n",
       "    <tr>\n",
       "      <th>45</th>\n",
       "      <td>64926.08</td>\n",
       "      <td>46501.708150</td>\n",
       "      <td>18424.371850</td>\n",
       "      <td>18424.371850</td>\n",
       "    </tr>\n",
       "    <tr>\n",
       "      <th>17</th>\n",
       "      <td>125370.37</td>\n",
       "      <td>129128.397344</td>\n",
       "      <td>-3758.027344</td>\n",
       "      <td>3758.027344</td>\n",
       "    </tr>\n",
       "    <tr>\n",
       "      <th>48</th>\n",
       "      <td>35673.41</td>\n",
       "      <td>50992.694863</td>\n",
       "      <td>-15319.284863</td>\n",
       "      <td>15319.284863</td>\n",
       "    </tr>\n",
       "    <tr>\n",
       "      <th>26</th>\n",
       "      <td>105733.54</td>\n",
       "      <td>109016.553658</td>\n",
       "      <td>-3283.013658</td>\n",
       "      <td>3283.013658</td>\n",
       "    </tr>\n",
       "    <tr>\n",
       "      <th>25</th>\n",
       "      <td>107404.34</td>\n",
       "      <td>100878.464145</td>\n",
       "      <td>6525.875855</td>\n",
       "      <td>6525.875855</td>\n",
       "    </tr>\n",
       "    <tr>\n",
       "      <th>32</th>\n",
       "      <td>97427.84</td>\n",
       "      <td>97700.596386</td>\n",
       "      <td>-272.756386</td>\n",
       "      <td>272.756386</td>\n",
       "    </tr>\n",
       "    <tr>\n",
       "      <th>19</th>\n",
       "      <td>122776.86</td>\n",
       "      <td>113106.152922</td>\n",
       "      <td>9670.707078</td>\n",
       "      <td>9670.707078</td>\n",
       "    </tr>\n",
       "  </tbody>\n",
       "</table>\n",
       "</div>"
      ],
      "text/plain": [
       "     y_Actual    y_Predicted         Error     abs_error\n",
       "13  134307.35  126703.027165   7604.322835   7604.322835\n",
       "39   81005.76   84894.750816  -3888.990816   3888.990816\n",
       "30   99937.59   98893.418160   1044.171840   1044.171840\n",
       "45   64926.08   46501.708150  18424.371850  18424.371850\n",
       "17  125370.37  129128.397344  -3758.027344   3758.027344\n",
       "48   35673.41   50992.694863 -15319.284863  15319.284863\n",
       "26  105733.54  109016.553658  -3283.013658   3283.013658\n",
       "25  107404.34  100878.464145   6525.875855   6525.875855\n",
       "32   97427.84   97700.596386   -272.756386    272.756386\n",
       "19  122776.86  113106.152922   9670.707078   9670.707078"
      ]
     },
     "execution_count": 29,
     "metadata": {},
     "output_type": "execute_result"
    }
   ],
   "source": [
    "df = pd.DataFrame({'y_Actual' :y_test, 'y_Predicted':y_pred_lr})\n",
    "df['Error']=df['y_Actual'] - df['y_Predicted']\n",
    "df['abs_error'] = abs(df['Error'])\n",
    "df"
   ]
  },
  {
   "cell_type": "code",
   "execution_count": 30,
   "id": "30d31f9f-42ce-41b9-a88c-f63413df5995",
   "metadata": {},
   "outputs": [
    {
     "data": {
      "text/plain": [
       "6979.1522523704025"
      ]
     },
     "execution_count": 30,
     "metadata": {},
     "output_type": "execute_result"
    }
   ],
   "source": [
    "\n",
    "\n",
    "Mean_absolute_Error = df['abs_error'].mean()\n",
    "Mean_absolute_Error"
   ]
  },
  {
   "cell_type": "code",
   "execution_count": 31,
   "id": "29cd8b42-241e-4160-a947-ccd17e51cbb1",
   "metadata": {},
   "outputs": [],
   "source": [
    "from sklearn.metrics import accuracy_score, r2_score\n",
    "from sklearn.metrics import mean_squared_error, mean_absolute_error"
   ]
  },
  {
   "cell_type": "code",
   "execution_count": 32,
   "id": "9d7f5210-c33e-4beb-84bd-3f2a5956c8c1",
   "metadata": {},
   "outputs": [
    {
     "data": {
      "text/plain": [
       "0.900065308303732"
      ]
     },
     "execution_count": 32,
     "metadata": {},
     "output_type": "execute_result"
    }
   ],
   "source": [
    "r2_score(y_test,y_pred_lr)"
   ]
  },
  {
   "cell_type": "code",
   "execution_count": 33,
   "id": "5eba94ea-9768-407e-9dd9-cfef5a258c11",
   "metadata": {},
   "outputs": [
    {
     "name": "stdout",
     "output_type": "stream",
     "text": [
      "Accuracy of the model = 90.01%\n"
     ]
    }
   ],
   "source": [
    "print(f'Accuracy of the model = {round(r2_score(y_test, y_pred_lr),4)*100}%')"
   ]
  },
  {
   "cell_type": "code",
   "execution_count": 34,
   "id": "5c0b6e36-798b-4c52-8762-d31439e76d55",
   "metadata": {},
   "outputs": [
    {
     "data": {
      "text/plain": [
       "6979.15"
      ]
     },
     "execution_count": 34,
     "metadata": {},
     "output_type": "execute_result"
    }
   ],
   "source": [
    "round(mean_absolute_error(y_test, y_pred_lr),2)"
   ]
  },
  {
   "cell_type": "code",
   "execution_count": 35,
   "id": "a8390d3d-f67c-4621-ae1d-c561859ca95f",
   "metadata": {},
   "outputs": [
    {
     "name": "stdout",
     "output_type": "stream",
     "text": [
      "Mean Absolute error = 6979.15\n"
     ]
    }
   ],
   "source": [
    "print(f'Mean Absolute error = {round(mean_absolute_error(y_test, y_pred_lr),2)}')\n"
   ]
  },
  {
   "cell_type": "code",
   "execution_count": 36,
   "id": "869eb28c-332a-402a-9d86-ff33a9d0e4d9",
   "metadata": {},
   "outputs": [
    {
     "data": {
      "text/plain": [
       "80926321.22"
      ]
     },
     "execution_count": 36,
     "metadata": {},
     "output_type": "execute_result"
    }
   ],
   "source": [
    "mse = round(mean_squared_error(y_test, y_pred_lr),2)\n",
    "mse"
   ]
  },
  {
   "cell_type": "code",
   "execution_count": 37,
   "id": "75a412cd-2f81-49fd-87c5-286b0157a8fd",
   "metadata": {},
   "outputs": [
    {
     "name": "stdout",
     "output_type": "stream",
     "text": [
      "mean squared error =80926321.22\n"
     ]
    }
   ],
   "source": [
    "print(f'mean squared error ={round(mean_squared_error(y_test, y_pred_lr),2)}')"
   ]
  },
  {
   "cell_type": "code",
   "execution_count": 38,
   "id": "e6aaeebe-2ad6-4750-ac96-2bd3c602c1f3",
   "metadata": {},
   "outputs": [
    {
     "name": "stdout",
     "output_type": "stream",
     "text": [
      "Root Mean Squared Error (RMSE) = 8995.905803197364\n"
     ]
    }
   ],
   "source": [
    "print('Root Mean Squared Error (RMSE) =', mse**(0.5))"
   ]
  },
  {
   "cell_type": "markdown",
   "id": "d8c9dab6-d2f4-4918-9f38-e85534a662eb",
   "metadata": {},
   "source": [
    "dataset= LinearRegression()"
   ]
  },
  {
   "cell_type": "code",
   "execution_count": 204,
   "id": "112ed6d8-a1aa-4f4c-9e11-b1c216a4b483",
   "metadata": {},
   "outputs": [
    {
     "data": {
      "text/plain": [
       "<Figure size 800x600 with 0 Axes>"
      ]
     },
     "execution_count": 204,
     "metadata": {},
     "output_type": "execute_result"
    },
    {
     "data": {
      "text/plain": [
       "<Figure size 800x600 with 0 Axes>"
      ]
     },
     "metadata": {},
     "output_type": "display_data"
    }
   ],
   "source": [
    "plt.figure(figsize=(8,6))"
   ]
  },
  {
   "cell_type": "code",
   "execution_count": null,
   "id": "e19b8414-edf4-4cb6-b387-bfdd3d0024c0",
   "metadata": {},
   "outputs": [],
   "source": [
    "plt.scatter(x,y, color='blue', label='Data Points')"
   ]
  },
  {
   "cell_type": "code",
   "execution_count": 222,
   "id": "7439d7f6-634d-48b9-80a4-bd17c5cc64cb",
   "metadata": {},
   "outputs": [
    {
     "data": {
      "text/plain": [
       "[<matplotlib.lines.Line2D at 0x228f9e2a630>,\n",
       " <matplotlib.lines.Line2D at 0x228f9dd9160>,\n",
       " <matplotlib.lines.Line2D at 0x228f9c3cf50>]"
      ]
     },
     "execution_count": 222,
     "metadata": {},
     "output_type": "execute_result"
    },
    {
     "data": {
      "image/png": "[encoded data removed]",
      "text/plain": [
       "<Figure size 640x480 with 1 Axes>"
      ]
     },
     "metadata": {},
     "output_type": "display_data"
    }
   ],
   "source": [
    "plt.plot(x, Linear_regression_model.predict(x),color=\"red\", linewidth=1, label=\"Regression Line\")"
   ]
  },
  {
   "cell_type": "code",
   "execution_count": 228,
   "id": "67089d97-ae88-4141-acb5-79e9ccf41b09",
   "metadata": {},
   "outputs": [
    {
     "data": {
      "text/plain": [
       "Text(0.5, 0, 'Feature')"
      ]
     },
     "execution_count": 228,
     "metadata": {},
     "output_type": "execute_result"
    },
    {
     "data": {
      "image/png": "[encoded data removed]",
      "text/plain": [
       "<Figure size 640x480 with 1 Axes>"
      ]
     },
     "metadata": {},
     "output_type": "display_data"
    }
   ],
   "source": [
    "plt.xlabel(\"Feature\")"
   ]
  },
  {
   "cell_type": "code",
   "execution_count": 232,
   "id": "c2adef73-aeaf-4a3b-ab31-979bcfc7e407",
   "metadata": {},
   "outputs": [
    {
     "data": {
      "text/plain": [
       "Text(0.5, 1.0, 'Linear Regression')"
      ]
     },
     "execution_count": 232,
     "metadata": {},
     "output_type": "execute_result"
    },
    {
     "data": {
      "image/png": "[encoded data removed]",
      "text/plain": [
       "<Figure size 640x480 with 1 Axes>"
      ]
     },
     "metadata": {},
     "output_type": "display_data"
    }
   ],
   "source": [
    "plt.title(\"Linear Regression\")"
   ]
  },
  {
   "cell_type": "code",
   "execution_count": 236,
   "id": "5dcdfcea-da77-4a72-bb86-fe320f73d1d6",
   "metadata": {},
   "outputs": [],
   "source": []
  },
  {
   "cell_type": "code",
   "execution_count": 39,
   "id": "1668e536-1e82-4573-935e-cda575b345d2",
   "metadata": {},
   "outputs": [],
   "source": [
    "#LASSO REGRESSION MODELING"
   ]
  },
  {
   "cell_type": "code",
   "execution_count": 40,
   "id": "05c36bef-9866-4bdc-910a-4cf5c504fc81",
   "metadata": {},
   "outputs": [],
   "source": [
    "from sklearn.linear_model import Lasso"
   ]
  },
  {
   "cell_type": "code",
   "execution_count": 41,
   "id": "b5ae37a3-e5c9-4805-935b-6fd8984622dd",
   "metadata": {},
   "outputs": [],
   "source": [
    "L = Lasso ( )\n"
   ]
  },
  {
   "cell_type": "code",
   "execution_count": 42,
   "id": "7b316ff6-9b68-4a77-8ce6-ff8227a572b8",
   "metadata": {},
   "outputs": [
    {
     "data": {
      "text/html": [
       "<style>#sk-container-id-2 {\n",
       "  /* Definition of color scheme common for light and dark mode */\n",
       "  --sklearn-color-text: black;\n",
       "  --sklearn-color-line: gray;\n",
       "  /* Definition of color scheme for unfitted estimators */\n",
       "  --sklearn-color-unfitted-level-0: #fff5e6;\n",
       "  --sklearn-color-unfitted-level-1: #f6e4d2;\n",
       "  --sklearn-color-unfitted-level-2: #ffe0b3;\n",
       "  --sklearn-color-unfitted-level-3: chocolate;\n",
       "  /* Definition of color scheme for fitted estimators */\n",
       "  --sklearn-color-fitted-level-0: #f0f8ff;\n",
       "  --sklearn-color-fitted-level-1: #d4ebff;\n",
       "  --sklearn-color-fitted-level-2: #b3dbfd;\n",
       "  --sklearn-color-fitted-level-3: cornflowerblue;\n",
       "\n",
       "  /* Specific color for light theme */\n",
       "  --sklearn-color-text-on-default-background: var(--sg-text-color, var(--theme-code-foreground, var(--jp-content-font-color1, black)));\n",
       "  --sklearn-color-background: var(--sg-background-color, var(--theme-background, var(--jp-layout-color0, white)));\n",
       "  --sklearn-color-border-box: var(--sg-text-color, var(--theme-code-foreground, var(--jp-content-font-color1, black)));\n",
       "  --sklearn-color-icon: #696969;\n",
       "\n",
       "  @media (prefers-color-scheme: dark) {\n",
       "    /* Redefinition of color scheme for dark theme */\n",
       "    --sklearn-color-text-on-default-background: var(--sg-text-color, var(--theme-code-foreground, var(--jp-content-font-color1, white)));\n",
       "    --sklearn-color-background: var(--sg-background-color, var(--theme-background, var(--jp-layout-color0, #111)));\n",
       "    --sklearn-color-border-box: var(--sg-text-color, var(--theme-code-foreground, var(--jp-content-font-color1, white)));\n",
       "    --sklearn-color-icon: #878787;\n",
       "  }\n",
       "}\n",
       "\n",
       "#sk-container-id-2 {\n",
       "  color: var(--sklearn-color-text);\n",
       "}\n",
       "\n",
       "#sk-container-id-2 pre {\n",
       "  padding: 0;\n",
       "}\n",
       "\n",
       "#sk-container-id-2 input.sk-hidden--visually {\n",
       "  border: 0;\n",
       "  clip: rect(1px 1px 1px 1px);\n",
       "  clip: rect(1px, 1px, 1px, 1px);\n",
       "  height: 1px;\n",
       "  margin: -1px;\n",
       "  overflow: hidden;\n",
       "  padding: 0;\n",
       "  position: absolute;\n",
       "  width: 1px;\n",
       "}\n",
       "\n",
       "#sk-container-id-2 div.sk-dashed-wrapped {\n",
       "  border: 1px dashed var(--sklearn-color-line);\n",
       "  margin: 0 0.4em 0.5em 0.4em;\n",
       "  box-sizing: border-box;\n",
       "  padding-bottom: 0.4em;\n",
       "  background-color: var(--sklearn-color-background);\n",
       "}\n",
       "\n",
       "#sk-container-id-2 div.sk-container {\n",
       "  /* jupyter's `normalize.less` sets `[hidden] { display: none; }`\n",
       "     but bootstrap.min.css set `[hidden] { display: none !important; }`\n",
       "     so we also need the `!important` here to be able to override the\n",
       "     default hidden behavior on the sphinx rendered scikit-learn.org.\n",
       "     See: https://github.com/scikit-learn/scikit-learn/issues/21755 */\n",
       "  display: inline-block !important;\n",
       "  position: relative;\n",
       "}\n",
       "\n",
       "#sk-container-id-2 div.sk-text-repr-fallback {\n",
       "  display: none;\n",
       "}\n",
       "\n",
       "div.sk-parallel-item,\n",
       "div.sk-serial,\n",
       "div.sk-item {\n",
       "  /* draw centered vertical line to link estimators */\n",
       "  background-image: linear-gradient(var(--sklearn-color-text-on-default-background), var(--sklearn-color-text-on-default-background));\n",
       "  background-size: 2px 100%;\n",
       "  background-repeat: no-repeat;\n",
       "  background-position: center center;\n",
       "}\n",
       "\n",
       "/* Parallel-specific style estimator block */\n",
       "\n",
       "#sk-container-id-2 div.sk-parallel-item::after {\n",
       "  content: \"\";\n",
       "  width: 100%;\n",
       "  border-bottom: 2px solid var(--sklearn-color-text-on-default-background);\n",
       "  flex-grow: 1;\n",
       "}\n",
       "\n",
       "#sk-container-id-2 div.sk-parallel {\n",
       "  display: flex;\n",
       "  align-items: stretch;\n",
       "  justify-content: center;\n",
       "  background-color: var(--sklearn-color-background);\n",
       "  position: relative;\n",
       "}\n",
       "\n",
       "#sk-container-id-2 div.sk-parallel-item {\n",
       "  display: flex;\n",
       "  flex-direction: column;\n",
       "}\n",
       "\n",
       "#sk-container-id-2 div.sk-parallel-item:first-child::after {\n",
       "  align-self: flex-end;\n",
       "  width: 50%;\n",
       "}\n",
       "\n",
       "#sk-container-id-2 div.sk-parallel-item:last-child::after {\n",
       "  align-self: flex-start;\n",
       "  width: 50%;\n",
       "}\n",
       "\n",
       "#sk-container-id-2 div.sk-parallel-item:only-child::after {\n",
       "  width: 0;\n",
       "}\n",
       "\n",
       "/* Serial-specific style estimator block */\n",
       "\n",
       "#sk-container-id-2 div.sk-serial {\n",
       "  display: flex;\n",
       "  flex-direction: column;\n",
       "  align-items: center;\n",
       "  background-color: var(--sklearn-color-background);\n",
       "  padding-right: 1em;\n",
       "  padding-left: 1em;\n",
       "}\n",
       "\n",
       "\n",
       "/* Toggleable style: style used for estimator/Pipeline/ColumnTransformer box that is\n",
       "clickable and can be expanded/collapsed.\n",
       "- Pipeline and ColumnTransformer use this feature and define the default style\n",
       "- Estimators will overwrite some part of the style using the `sk-estimator` class\n",
       "*/\n",
       "\n",
       "/* Pipeline and ColumnTransformer style (default) */\n",
       "\n",
       "#sk-container-id-2 div.sk-toggleable {\n",
       "  /* Default theme specific background. It is overwritten whether we have a\n",
       "  specific estimator or a Pipeline/ColumnTransformer */\n",
       "  background-color: var(--sklearn-color-background);\n",
       "}\n",
       "\n",
       "/* Toggleable label */\n",
       "#sk-container-id-2 label.sk-toggleable__label {\n",
       "  cursor: pointer;\n",
       "  display: block;\n",
       "  width: 100%;\n",
       "  margin-bottom: 0;\n",
       "  padding: 0.5em;\n",
       "  box-sizing: border-box;\n",
       "  text-align: center;\n",
       "}\n",
       "\n",
       "#sk-container-id-2 label.sk-toggleable__label-arrow:before {\n",
       "  /* Arrow on the left of the label */\n",
       "  content: \"▸\";\n",
       "  float: left;\n",
       "  margin-right: 0.25em;\n",
       "  color: var(--sklearn-color-icon);\n",
       "}\n",
       "\n",
       "#sk-container-id-2 label.sk-toggleable__label-arrow:hover:before {\n",
       "  color: var(--sklearn-color-text);\n",
       "}\n",
       "\n",
       "/* Toggleable content - dropdown */\n",
       "\n",
       "#sk-container-id-2 div.sk-toggleable__content {\n",
       "  max-height: 0;\n",
       "  max-width: 0;\n",
       "  overflow: hidden;\n",
       "  text-align: left;\n",
       "  /* unfitted */\n",
       "  background-color: var(--sklearn-color-unfitted-level-0);\n",
       "}\n",
       "\n",
       "#sk-container-id-2 div.sk-toggleable__content.fitted {\n",
       "  /* fitted */\n",
       "  background-color: var(--sklearn-color-fitted-level-0);\n",
       "}\n",
       "\n",
       "#sk-container-id-2 div.sk-toggleable__content pre {\n",
       "  margin: 0.2em;\n",
       "  border-radius: 0.25em;\n",
       "  color: var(--sklearn-color-text);\n",
       "  /* unfitted */\n",
       "  background-color: var(--sklearn-color-unfitted-level-0);\n",
       "}\n",
       "\n",
       "#sk-container-id-2 div.sk-toggleable__content.fitted pre {\n",
       "  /* unfitted */\n",
       "  background-color: var(--sklearn-color-fitted-level-0);\n",
       "}\n",
       "\n",
       "#sk-container-id-2 input.sk-toggleable__control:checked~div.sk-toggleable__content {\n",
       "  /* Expand drop-down */\n",
       "  max-height: 200px;\n",
       "  max-width: 100%;\n",
       "  overflow: auto;\n",
       "}\n",
       "\n",
       "#sk-container-id-2 input.sk-toggleable__control:checked~label.sk-toggleable__label-arrow:before {\n",
       "  content: \"▾\";\n",
       "}\n",
       "\n",
       "/* Pipeline/ColumnTransformer-specific style */\n",
       "\n",
       "#sk-container-id-2 div.sk-label input.sk-toggleable__control:checked~label.sk-toggleable__label {\n",
       "  color: var(--sklearn-color-text);\n",
       "  background-color: var(--sklearn-color-unfitted-level-2);\n",
       "}\n",
       "\n",
       "#sk-container-id-2 div.sk-label.fitted input.sk-toggleable__control:checked~label.sk-toggleable__label {\n",
       "  background-color: var(--sklearn-color-fitted-level-2);\n",
       "}\n",
       "\n",
       "/* Estimator-specific style */\n",
       "\n",
       "/* Colorize estimator box */\n",
       "#sk-container-id-2 div.sk-estimator input.sk-toggleable__control:checked~label.sk-toggleable__label {\n",
       "  /* unfitted */\n",
       "  background-color: var(--sklearn-color-unfitted-level-2);\n",
       "}\n",
       "\n",
       "#sk-container-id-2 div.sk-estimator.fitted input.sk-toggleable__control:checked~label.sk-toggleable__label {\n",
       "  /* fitted */\n",
       "  background-color: var(--sklearn-color-fitted-level-2);\n",
       "}\n",
       "\n",
       "#sk-container-id-2 div.sk-label label.sk-toggleable__label,\n",
       "#sk-container-id-2 div.sk-label label {\n",
       "  /* The background is the default theme color */\n",
       "  color: var(--sklearn-color-text-on-default-background);\n",
       "}\n",
       "\n",
       "/* On hover, darken the color of the background */\n",
       "#sk-container-id-2 div.sk-label:hover label.sk-toggleable__label {\n",
       "  color: var(--sklearn-color-text);\n",
       "  background-color: var(--sklearn-color-unfitted-level-2);\n",
       "}\n",
       "\n",
       "/* Label box, darken color on hover, fitted */\n",
       "#sk-container-id-2 div.sk-label.fitted:hover label.sk-toggleable__label.fitted {\n",
       "  color: var(--sklearn-color-text);\n",
       "  background-color: var(--sklearn-color-fitted-level-2);\n",
       "}\n",
       "\n",
       "/* Estimator label */\n",
       "\n",
       "#sk-container-id-2 div.sk-label label {\n",
       "  font-family: monospace;\n",
       "  font-weight: bold;\n",
       "  display: inline-block;\n",
       "  line-height: 1.2em;\n",
       "}\n",
       "\n",
       "#sk-container-id-2 div.sk-label-container {\n",
       "  text-align: center;\n",
       "}\n",
       "\n",
       "/* Estimator-specific */\n",
       "#sk-container-id-2 div.sk-estimator {\n",
       "  font-family: monospace;\n",
       "  border: 1px dotted var(--sklearn-color-border-box);\n",
       "  border-radius: 0.25em;\n",
       "  box-sizing: border-box;\n",
       "  margin-bottom: 0.5em;\n",
       "  /* unfitted */\n",
       "  background-color: var(--sklearn-color-unfitted-level-0);\n",
       "}\n",
       "\n",
       "#sk-container-id-2 div.sk-estimator.fitted {\n",
       "  /* fitted */\n",
       "  background-color: var(--sklearn-color-fitted-level-0);\n",
       "}\n",
       "\n",
       "/* on hover */\n",
       "#sk-container-id-2 div.sk-estimator:hover {\n",
       "  /* unfitted */\n",
       "  background-color: var(--sklearn-color-unfitted-level-2);\n",
       "}\n",
       "\n",
       "#sk-container-id-2 div.sk-estimator.fitted:hover {\n",
       "  /* fitted */\n",
       "  background-color: var(--sklearn-color-fitted-level-2);\n",
       "}\n",
       "\n",
       "/* Specification for estimator info (e.g. \"i\" and \"?\") */\n",
       "\n",
       "/* Common style for \"i\" and \"?\" */\n",
       "\n",
       ".sk-estimator-doc-link,\n",
       "a:link.sk-estimator-doc-link,\n",
       "a:visited.sk-estimator-doc-link {\n",
       "  float: right;\n",
       "  font-size: smaller;\n",
       "  line-height: 1em;\n",
       "  font-family: monospace;\n",
       "  background-color: var(--sklearn-color-background);\n",
       "  border-radius: 1em;\n",
       "  height: 1em;\n",
       "  width: 1em;\n",
       "  text-decoration: none !important;\n",
       "  margin-left: 1ex;\n",
       "  /* unfitted */\n",
       "  border: var(--sklearn-color-unfitted-level-1) 1pt solid;\n",
       "  color: var(--sklearn-color-unfitted-level-1);\n",
       "}\n",
       "\n",
       ".sk-estimator-doc-link.fitted,\n",
       "a:link.sk-estimator-doc-link.fitted,\n",
       "a:visited.sk-estimator-doc-link.fitted {\n",
       "  /* fitted */\n",
       "  border: var(--sklearn-color-fitted-level-1) 1pt solid;\n",
       "  color: var(--sklearn-color-fitted-level-1);\n",
       "}\n",
       "\n",
       "/* On hover */\n",
       "div.sk-estimator:hover .sk-estimator-doc-link:hover,\n",
       ".sk-estimator-doc-link:hover,\n",
       "div.sk-label-container:hover .sk-estimator-doc-link:hover,\n",
       ".sk-estimator-doc-link:hover {\n",
       "  /* unfitted */\n",
       "  background-color: var(--sklearn-color-unfitted-level-3);\n",
       "  color: var(--sklearn-color-background);\n",
       "  text-decoration: none;\n",
       "}\n",
       "\n",
       "div.sk-estimator.fitted:hover .sk-estimator-doc-link.fitted:hover,\n",
       ".sk-estimator-doc-link.fitted:hover,\n",
       "div.sk-label-container:hover .sk-estimator-doc-link.fitted:hover,\n",
       ".sk-estimator-doc-link.fitted:hover {\n",
       "  /* fitted */\n",
       "  background-color: var(--sklearn-color-fitted-level-3);\n",
       "  color: var(--sklearn-color-background);\n",
       "  text-decoration: none;\n",
       "}\n",
       "\n",
       "/* Span, style for the box shown on hovering the info icon */\n",
       ".sk-estimator-doc-link span {\n",
       "  display: none;\n",
       "  z-index: 9999;\n",
       "  position: relative;\n",
       "  font-weight: normal;\n",
       "  right: .2ex;\n",
       "  padding: .5ex;\n",
       "  margin: .5ex;\n",
       "  width: min-content;\n",
       "  min-width: 20ex;\n",
       "  max-width: 50ex;\n",
       "  color: var(--sklearn-color-text);\n",
       "  box-shadow: 2pt 2pt 4pt #999;\n",
       "  /* unfitted */\n",
       "  background: var(--sklearn-color-unfitted-level-0);\n",
       "  border: .5pt solid var(--sklearn-color-unfitted-level-3);\n",
       "}\n",
       "\n",
       ".sk-estimator-doc-link.fitted span {\n",
       "  /* fitted */\n",
       "  background: var(--sklearn-color-fitted-level-0);\n",
       "  border: var(--sklearn-color-fitted-level-3);\n",
       "}\n",
       "\n",
       ".sk-estimator-doc-link:hover span {\n",
       "  display: block;\n",
       "}\n",
       "\n",
       "/* \"?\"-specific style due to the `<a>` HTML tag */\n",
       "\n",
       "#sk-container-id-2 a.estimator_doc_link {\n",
       "  float: right;\n",
       "  font-size: 1rem;\n",
       "  line-height: 1em;\n",
       "  font-family: monospace;\n",
       "  background-color: var(--sklearn-color-background);\n",
       "  border-radius: 1rem;\n",
       "  height: 1rem;\n",
       "  width: 1rem;\n",
       "  text-decoration: none;\n",
       "  /* unfitted */\n",
       "  color: var(--sklearn-color-unfitted-level-1);\n",
       "  border: var(--sklearn-color-unfitted-level-1) 1pt solid;\n",
       "}\n",
       "\n",
       "#sk-container-id-2 a.estimator_doc_link.fitted {\n",
       "  /* fitted */\n",
       "  border: var(--sklearn-color-fitted-level-1) 1pt solid;\n",
       "  color: var(--sklearn-color-fitted-level-1);\n",
       "}\n",
       "\n",
       "/* On hover */\n",
       "#sk-container-id-2 a.estimator_doc_link:hover {\n",
       "  /* unfitted */\n",
       "  background-color: var(--sklearn-color-unfitted-level-3);\n",
       "  color: var(--sklearn-color-background);\n",
       "  text-decoration: none;\n",
       "}\n",
       "\n",
       "#sk-container-id-2 a.estimator_doc_link.fitted:hover {\n",
       "  /* fitted */\n",
       "  background-color: var(--sklearn-color-fitted-level-3);\n",
       "}\n",
       "</style><div id=\"sk-container-id-2\" class=\"sk-top-container\"><div class=\"sk-text-repr-fallback\"><pre>Lasso()</pre><b>In a Jupyter environment, please rerun this cell to show the HTML representation or trust the notebook. <br />On GitHub, the HTML representation is unable to render, please try loading this page with nbviewer.org.</b></div><div class=\"sk-container\" hidden><div class=\"sk-item\"><div class=\"sk-estimator fitted sk-toggleable\"><input class=\"sk-toggleable__control sk-hidden--visually\" id=\"sk-estimator-id-2\" type=\"checkbox\" checked><label for=\"sk-estimator-id-2\" class=\"sk-toggleable__label fitted sk-toggleable__label-arrow fitted\">&nbsp;&nbsp;Lasso<a class=\"sk-estimator-doc-link fitted\" rel=\"noreferrer\" target=\"_blank\" href=\"https://scikit-learn.org/1.4/modules/generated/sklearn.linear_model.Lasso.html\">?<span>Documentation for Lasso</span></a><span class=\"sk-estimator-doc-link fitted\">i<span>Fitted</span></span></label><div class=\"sk-toggleable__content fitted\"><pre>Lasso()</pre></div> </div></div></div></div>"
      ],
      "text/plain": [
       "Lasso()"
      ]
     },
     "execution_count": 42,
     "metadata": {},
     "output_type": "execute_result"
    }
   ],
   "source": [
    "L.fit ( x_train, y_train )\n"
   ]
  },
  {
   "cell_type": "code",
   "execution_count": 43,
   "id": "1d18f86b-70d9-404b-adda-2212af97dea0",
   "metadata": {},
   "outputs": [
    {
     "name": "stdout",
     "output_type": "stream",
     "text": [
      "The lasso score is :  95.35927757257411\n"
     ]
    }
   ],
   "source": [
    "print ( 'The lasso score is : ' , L.score ( x_train, y_train ) * 100 )\n"
   ]
  },
  {
   "cell_type": "code",
   "execution_count": 44,
   "id": "eb4031c4-6b55-4029-ad86-a0b3adeee26c",
   "metadata": {},
   "outputs": [
    {
     "data": {
      "text/html": [
       "<div>\n",
       "<style scoped>\n",
       "    .dataframe tbody tr th:only-of-type {\n",
       "        vertical-align: middle;\n",
       "    }\n",
       "\n",
       "    .dataframe tbody tr th {\n",
       "        vertical-align: top;\n",
       "    }\n",
       "\n",
       "    .dataframe thead th {\n",
       "        text-align: right;\n",
       "    }\n",
       "</style>\n",
       "<table border=\"1\" class=\"dataframe\">\n",
       "  <thead>\n",
       "    <tr style=\"text-align: right;\">\n",
       "      <th></th>\n",
       "      <th>Predicted_Values</th>\n",
       "      <th>Actual_Values</th>\n",
       "      <th>Error</th>\n",
       "      <th>Absolute_Error</th>\n",
       "      <th>Error_Percentage</th>\n",
       "    </tr>\n",
       "  </thead>\n",
       "  <tbody>\n",
       "    <tr>\n",
       "      <th>23</th>\n",
       "      <td>188349.658948</td>\n",
       "      <td>108733.99</td>\n",
       "      <td>-79615.668948</td>\n",
       "      <td>79615.668948</td>\n",
       "      <td>73.220590</td>\n",
       "    </tr>\n",
       "    <tr>\n",
       "      <th>8</th>\n",
       "      <td>44872.436956</td>\n",
       "      <td>152211.77</td>\n",
       "      <td>107339.333044</td>\n",
       "      <td>107339.333044</td>\n",
       "      <td>70.519733</td>\n",
       "    </tr>\n",
       "    <tr>\n",
       "      <th>35</th>\n",
       "      <td>159035.483723</td>\n",
       "      <td>96479.51</td>\n",
       "      <td>-62555.973723</td>\n",
       "      <td>62555.973723</td>\n",
       "      <td>64.838611</td>\n",
       "    </tr>\n",
       "    <tr>\n",
       "      <th>37</th>\n",
       "      <td>147859.489597</td>\n",
       "      <td>89949.14</td>\n",
       "      <td>-57910.349597</td>\n",
       "      <td>57910.349597</td>\n",
       "      <td>64.381215</td>\n",
       "    </tr>\n",
       "    <tr>\n",
       "      <th>7</th>\n",
       "      <td>56544.230713</td>\n",
       "      <td>155752.60</td>\n",
       "      <td>99208.369287</td>\n",
       "      <td>99208.369287</td>\n",
       "      <td>63.696124</td>\n",
       "    </tr>\n",
       "    <tr>\n",
       "      <th>2</th>\n",
       "      <td>92166.270487</td>\n",
       "      <td>191050.39</td>\n",
       "      <td>98884.119513</td>\n",
       "      <td>98884.119513</td>\n",
       "      <td>51.758135</td>\n",
       "    </tr>\n",
       "    <tr>\n",
       "      <th>6</th>\n",
       "      <td>75875.613331</td>\n",
       "      <td>156122.51</td>\n",
       "      <td>80246.896669</td>\n",
       "      <td>80246.896669</td>\n",
       "      <td>51.399953</td>\n",
       "    </tr>\n",
       "    <tr>\n",
       "      <th>16</th>\n",
       "      <td>62267.250821</td>\n",
       "      <td>126992.93</td>\n",
       "      <td>64725.679179</td>\n",
       "      <td>64725.679179</td>\n",
       "      <td>50.967939</td>\n",
       "    </tr>\n",
       "    <tr>\n",
       "      <th>33</th>\n",
       "      <td>47536.539062</td>\n",
       "      <td>96778.92</td>\n",
       "      <td>49242.380938</td>\n",
       "      <td>49242.380938</td>\n",
       "      <td>50.881309</td>\n",
       "    </tr>\n",
       "    <tr>\n",
       "      <th>15</th>\n",
       "      <td>192416.046096</td>\n",
       "      <td>129917.04</td>\n",
       "      <td>-62499.006096</td>\n",
       "      <td>62499.006096</td>\n",
       "      <td>48.106858</td>\n",
       "    </tr>\n",
       "    <tr>\n",
       "      <th>0</th>\n",
       "      <td>128674.214827</td>\n",
       "      <td>192261.83</td>\n",
       "      <td>63587.615173</td>\n",
       "      <td>63587.615173</td>\n",
       "      <td>33.073447</td>\n",
       "    </tr>\n",
       "    <tr>\n",
       "      <th>22</th>\n",
       "      <td>74763.901356</td>\n",
       "      <td>110352.25</td>\n",
       "      <td>35588.348644</td>\n",
       "      <td>35588.348644</td>\n",
       "      <td>32.249772</td>\n",
       "    </tr>\n",
       "    <tr>\n",
       "      <th>14</th>\n",
       "      <td>95595.189622</td>\n",
       "      <td>132602.65</td>\n",
       "      <td>37007.460378</td>\n",
       "      <td>37007.460378</td>\n",
       "      <td>27.908538</td>\n",
       "    </tr>\n",
       "    <tr>\n",
       "      <th>29</th>\n",
       "      <td>74529.678862</td>\n",
       "      <td>101004.64</td>\n",
       "      <td>26474.961138</td>\n",
       "      <td>26474.961138</td>\n",
       "      <td>26.211629</td>\n",
       "    </tr>\n",
       "    <tr>\n",
       "      <th>21</th>\n",
       "      <td>136557.056321</td>\n",
       "      <td>111313.02</td>\n",
       "      <td>-25244.036321</td>\n",
       "      <td>25244.036321</td>\n",
       "      <td>22.678422</td>\n",
       "    </tr>\n",
       "    <tr>\n",
       "      <th>36</th>\n",
       "      <td>71163.666658</td>\n",
       "      <td>90708.19</td>\n",
       "      <td>19544.523342</td>\n",
       "      <td>19544.523342</td>\n",
       "      <td>21.546592</td>\n",
       "    </tr>\n",
       "    <tr>\n",
       "      <th>38</th>\n",
       "      <td>98446.889112</td>\n",
       "      <td>81229.06</td>\n",
       "      <td>-17217.829112</td>\n",
       "      <td>17217.829112</td>\n",
       "      <td>21.196637</td>\n",
       "    </tr>\n",
       "    <tr>\n",
       "      <th>34</th>\n",
       "      <td>116958.976188</td>\n",
       "      <td>96712.80</td>\n",
       "      <td>-20246.176188</td>\n",
       "      <td>20246.176188</td>\n",
       "      <td>20.934329</td>\n",
       "    </tr>\n",
       "    <tr>\n",
       "      <th>18</th>\n",
       "      <td>98381.675750</td>\n",
       "      <td>124266.90</td>\n",
       "      <td>25885.224250</td>\n",
       "      <td>25885.224250</td>\n",
       "      <td>20.830345</td>\n",
       "    </tr>\n",
       "    <tr>\n",
       "      <th>12</th>\n",
       "      <td>113645.929261</td>\n",
       "      <td>141585.52</td>\n",
       "      <td>27939.590739</td>\n",
       "      <td>27939.590739</td>\n",
       "      <td>19.733367</td>\n",
       "    </tr>\n",
       "    <tr>\n",
       "      <th>11</th>\n",
       "      <td>116775.755218</td>\n",
       "      <td>144259.40</td>\n",
       "      <td>27483.644782</td>\n",
       "      <td>27483.644782</td>\n",
       "      <td>19.051545</td>\n",
       "    </tr>\n",
       "    <tr>\n",
       "      <th>3</th>\n",
       "      <td>150594.380658</td>\n",
       "      <td>182901.99</td>\n",
       "      <td>32307.609342</td>\n",
       "      <td>32307.609342</td>\n",
       "      <td>17.663892</td>\n",
       "    </tr>\n",
       "    <tr>\n",
       "      <th>31</th>\n",
       "      <td>114682.801357</td>\n",
       "      <td>97483.56</td>\n",
       "      <td>-17199.241357</td>\n",
       "      <td>17199.241357</td>\n",
       "      <td>17.643222</td>\n",
       "    </tr>\n",
       "    <tr>\n",
       "      <th>20</th>\n",
       "      <td>99756.028178</td>\n",
       "      <td>118474.03</td>\n",
       "      <td>18718.001822</td>\n",
       "      <td>18718.001822</td>\n",
       "      <td>15.799245</td>\n",
       "    </tr>\n",
       "    <tr>\n",
       "      <th>27</th>\n",
       "      <td>91700.477797</td>\n",
       "      <td>105008.31</td>\n",
       "      <td>13307.832203</td>\n",
       "      <td>13307.832203</td>\n",
       "      <td>12.673123</td>\n",
       "    </tr>\n",
       "    <tr>\n",
       "      <th>1</th>\n",
       "      <td>173526.310590</td>\n",
       "      <td>191792.06</td>\n",
       "      <td>18265.749410</td>\n",
       "      <td>18265.749410</td>\n",
       "      <td>9.523726</td>\n",
       "    </tr>\n",
       "    <tr>\n",
       "      <th>28</th>\n",
       "      <td>110690.989899</td>\n",
       "      <td>103282.38</td>\n",
       "      <td>-7408.609899</td>\n",
       "      <td>7408.609899</td>\n",
       "      <td>7.173160</td>\n",
       "    </tr>\n",
       "    <tr>\n",
       "      <th>24</th>\n",
       "      <td>115998.261390</td>\n",
       "      <td>108552.04</td>\n",
       "      <td>-7446.221390</td>\n",
       "      <td>7446.221390</td>\n",
       "      <td>6.859587</td>\n",
       "    </tr>\n",
       "    <tr>\n",
       "      <th>10</th>\n",
       "      <td>155351.507285</td>\n",
       "      <td>146121.95</td>\n",
       "      <td>-9229.557285</td>\n",
       "      <td>9229.557285</td>\n",
       "      <td>6.316339</td>\n",
       "    </tr>\n",
       "    <tr>\n",
       "      <th>4</th>\n",
       "      <td>174025.894650</td>\n",
       "      <td>166187.94</td>\n",
       "      <td>-7837.954650</td>\n",
       "      <td>7837.954650</td>\n",
       "      <td>4.716320</td>\n",
       "    </tr>\n",
       "    <tr>\n",
       "      <th>9</th>\n",
       "      <td>145972.613499</td>\n",
       "      <td>149759.96</td>\n",
       "      <td>3787.346501</td>\n",
       "      <td>3787.346501</td>\n",
       "      <td>2.528945</td>\n",
       "    </tr>\n",
       "    <tr>\n",
       "      <th>5</th>\n",
       "      <td>156263.966009</td>\n",
       "      <td>156991.12</td>\n",
       "      <td>727.153991</td>\n",
       "      <td>727.153991</td>\n",
       "      <td>0.463182</td>\n",
       "    </tr>\n",
       "    <tr>\n",
       "      <th>13</th>\n",
       "      <td>87261.816029</td>\n",
       "      <td>NaN</td>\n",
       "      <td>NaN</td>\n",
       "      <td>NaN</td>\n",
       "      <td>NaN</td>\n",
       "    </tr>\n",
       "    <tr>\n",
       "      <th>17</th>\n",
       "      <td>114378.745155</td>\n",
       "      <td>NaN</td>\n",
       "      <td>NaN</td>\n",
       "      <td>NaN</td>\n",
       "      <td>NaN</td>\n",
       "    </tr>\n",
       "    <tr>\n",
       "      <th>19</th>\n",
       "      <td>164627.813914</td>\n",
       "      <td>NaN</td>\n",
       "      <td>NaN</td>\n",
       "      <td>NaN</td>\n",
       "      <td>NaN</td>\n",
       "    </tr>\n",
       "    <tr>\n",
       "      <th>25</th>\n",
       "      <td>183278.753483</td>\n",
       "      <td>NaN</td>\n",
       "      <td>NaN</td>\n",
       "      <td>NaN</td>\n",
       "      <td>NaN</td>\n",
       "    </tr>\n",
       "    <tr>\n",
       "      <th>26</th>\n",
       "      <td>58992.228172</td>\n",
       "      <td>NaN</td>\n",
       "      <td>NaN</td>\n",
       "      <td>NaN</td>\n",
       "      <td>NaN</td>\n",
       "    </tr>\n",
       "    <tr>\n",
       "      <th>30</th>\n",
       "      <td>135634.273171</td>\n",
       "      <td>NaN</td>\n",
       "      <td>NaN</td>\n",
       "      <td>NaN</td>\n",
       "      <td>NaN</td>\n",
       "    </tr>\n",
       "    <tr>\n",
       "      <th>32</th>\n",
       "      <td>129275.825274</td>\n",
       "      <td>NaN</td>\n",
       "      <td>NaN</td>\n",
       "      <td>NaN</td>\n",
       "      <td>NaN</td>\n",
       "    </tr>\n",
       "    <tr>\n",
       "      <th>39</th>\n",
       "      <td>71640.180579</td>\n",
       "      <td>NaN</td>\n",
       "      <td>NaN</td>\n",
       "      <td>NaN</td>\n",
       "      <td>NaN</td>\n",
       "    </tr>\n",
       "  </tbody>\n",
       "</table>\n",
       "</div>"
      ],
      "text/plain": [
       "    Predicted_Values  Actual_Values          Error  Absolute_Error  \\\n",
       "23     188349.658948      108733.99  -79615.668948    79615.668948   \n",
       "8       44872.436956      152211.77  107339.333044   107339.333044   \n",
       "35     159035.483723       96479.51  -62555.973723    62555.973723   \n",
       "37     147859.489597       89949.14  -57910.349597    57910.349597   \n",
       "7       56544.230713      155752.60   99208.369287    99208.369287   \n",
       "2       92166.270487      191050.39   98884.119513    98884.119513   \n",
       "6       75875.613331      156122.51   80246.896669    80246.896669   \n",
       "16      62267.250821      126992.93   64725.679179    64725.679179   \n",
       "33      47536.539062       96778.92   49242.380938    49242.380938   \n",
       "15     192416.046096      129917.04  -62499.006096    62499.006096   \n",
       "0      128674.214827      192261.83   63587.615173    63587.615173   \n",
       "22      74763.901356      110352.25   35588.348644    35588.348644   \n",
       "14      95595.189622      132602.65   37007.460378    37007.460378   \n",
       "29      74529.678862      101004.64   26474.961138    26474.961138   \n",
       "21     136557.056321      111313.02  -25244.036321    25244.036321   \n",
       "36      71163.666658       90708.19   19544.523342    19544.523342   \n",
       "38      98446.889112       81229.06  -17217.829112    17217.829112   \n",
       "34     116958.976188       96712.80  -20246.176188    20246.176188   \n",
       "18      98381.675750      124266.90   25885.224250    25885.224250   \n",
       "12     113645.929261      141585.52   27939.590739    27939.590739   \n",
       "11     116775.755218      144259.40   27483.644782    27483.644782   \n",
       "3      150594.380658      182901.99   32307.609342    32307.609342   \n",
       "31     114682.801357       97483.56  -17199.241357    17199.241357   \n",
       "20      99756.028178      118474.03   18718.001822    18718.001822   \n",
       "27      91700.477797      105008.31   13307.832203    13307.832203   \n",
       "1      173526.310590      191792.06   18265.749410    18265.749410   \n",
       "28     110690.989899      103282.38   -7408.609899     7408.609899   \n",
       "24     115998.261390      108552.04   -7446.221390     7446.221390   \n",
       "10     155351.507285      146121.95   -9229.557285     9229.557285   \n",
       "4      174025.894650      166187.94   -7837.954650     7837.954650   \n",
       "9      145972.613499      149759.96    3787.346501     3787.346501   \n",
       "5      156263.966009      156991.12     727.153991      727.153991   \n",
       "13      87261.816029            NaN            NaN             NaN   \n",
       "17     114378.745155            NaN            NaN             NaN   \n",
       "19     164627.813914            NaN            NaN             NaN   \n",
       "25     183278.753483            NaN            NaN             NaN   \n",
       "26      58992.228172            NaN            NaN             NaN   \n",
       "30     135634.273171            NaN            NaN             NaN   \n",
       "32     129275.825274            NaN            NaN             NaN   \n",
       "39      71640.180579            NaN            NaN             NaN   \n",
       "\n",
       "    Error_Percentage  \n",
       "23         73.220590  \n",
       "8          70.519733  \n",
       "35         64.838611  \n",
       "37         64.381215  \n",
       "7          63.696124  \n",
       "2          51.758135  \n",
       "6          51.399953  \n",
       "16         50.967939  \n",
       "33         50.881309  \n",
       "15         48.106858  \n",
       "0          33.073447  \n",
       "22         32.249772  \n",
       "14         27.908538  \n",
       "29         26.211629  \n",
       "21         22.678422  \n",
       "36         21.546592  \n",
       "38         21.196637  \n",
       "34         20.934329  \n",
       "18         20.830345  \n",
       "12         19.733367  \n",
       "11         19.051545  \n",
       "3          17.663892  \n",
       "31         17.643222  \n",
       "20         15.799245  \n",
       "27         12.673123  \n",
       "1           9.523726  \n",
       "28          7.173160  \n",
       "24          6.859587  \n",
       "10          6.316339  \n",
       "4           4.716320  \n",
       "9           2.528945  \n",
       "5           0.463182  \n",
       "13               NaN  \n",
       "17               NaN  \n",
       "19               NaN  \n",
       "25               NaN  \n",
       "26               NaN  \n",
       "30               NaN  \n",
       "32               NaN  \n",
       "39               NaN  "
      ]
     },
     "execution_count": 44,
     "metadata": {},
     "output_type": "execute_result"
    }
   ],
   "source": [
    "\n",
    "dataset = pd.DataFrame ( )\n",
    "dataset [ 'Predicted_Values' ] = L.predict ( x_train)\n",
    "dataset [ 'Actual_Values' ] = y_train\n",
    "dataset [ 'Error' ] = y_train- dataset [ 'Predicted_Values' ]\n",
    "dataset [ 'Absolute_Error' ] = np.abs ( dataset.Error )\n",
    "dataset[ 'Error_Percentage' ] = np.abs ( ( dataset [ 'Error' ] * 100 ) / y_train )\n",
    "dataset= dataset.sort_values ( 'Error_Percentage' , ascending = False )\n",
    "dataset\n"
   ]
  },
  {
   "cell_type": "code",
   "execution_count": 45,
   "id": "61feffb5-9f47-49ab-be03-76493344b3de",
   "metadata": {},
   "outputs": [
    {
     "name": "stdout",
     "output_type": "stream",
     "text": [
      "The mean of the error is :  14870.662993102844\n",
      "\n",
      "The mean of absolute error is :  38271.3270285117\n"
     ]
    }
   ],
   "source": [
    "\n",
    "print ( \"The mean of the error is : \" , np.mean ( dataset.Error ) )\n",
    "print ( \"\\nThe mean of absolute error is : \" , np.mean ( dataset.Absolute_Error ) )"
   ]
  },
  {
   "cell_type": "code",
   "execution_count": 46,
   "id": "fea98989-1edc-41f2-a3f7-ace46fd877b2",
   "metadata": {},
   "outputs": [
    {
     "name": "stdout",
     "output_type": "stream",
     "text": [
      "\n",
      "The mean square value of error test is  80926320.76116839\n",
      "\n",
      "The mean square value of error train is  2359127164.9961567\n"
     ]
    }
   ],
   "source": [
    "\n",
    "Predicted_Test = L.predict ( x_test )\n",
    "Error_Test = y_test - Predicted_Test\n",
    "Error_test_Percentage = abs(Error_Test) * 100 / y_test\n",
    "MSE = np.mean ( np.square ( Error_Test ) )\n",
    "print ( \"\\nThe mean square value of error test is \" , MSE )\n",
    "print ( \"\\nThe mean square value of error train is \" , np.mean ( np.square (dataset.Error) ) )"
   ]
  },
  {
   "cell_type": "code",
   "execution_count": 47,
   "id": "0dce7d9e-87d0-4b16-9bf9-8974337ce30a",
   "metadata": {},
   "outputs": [
    {
     "name": "stdout",
     "output_type": "stream",
     "text": [
      "\n",
      "The root mean square value of error test is  8995.905777695118\n",
      "\n",
      "The root mean square value of error train is  48570.846863073704\n"
     ]
    }
   ],
   "source": [
    "RMSE = np.sqrt ( MSE )\n",
    "print ( \"\\nThe root mean square value of error test is \" , RMSE )\n",
    "print ( \"\\nThe root mean square value of error train is \" , np.sqrt ( np.mean ( np.square ( dataset.Error) ) ) )\n"
   ]
  },
  {
   "cell_type": "code",
   "execution_count": 49,
   "id": "fe6a0f06-03d6-4702-9325-0bbd953d9233",
   "metadata": {},
   "outputs": [
    {
     "name": "stdout",
     "output_type": "stream",
     "text": [
      "\n",
      "Accuracy on train data is :  89.68366796431091\n",
      "\n",
      "Accuracy on test data is :  70.10794287560027\n"
     ]
    }
   ],
   "source": [
    "print ( \"\\nAccuracy on train data is : \" , 100 - MAPE )\n",
    "print ( '\\nAccuracy on test data is : ' , 100 - np.mean ( dataset.Error_Percentage ) )\n"
   ]
  },
  {
   "cell_type": "code",
   "execution_count": 240,
   "id": "025981f9-b25d-4b84-846b-bb8448af2b3a",
   "metadata": {},
   "outputs": [],
   "source": [
    "##PLOTING THE DATA"
   ]
  },
  {
   "cell_type": "code",
   "execution_count": 252,
   "id": "67d6fa22-e4cb-4728-ae3d-330178e0228a",
   "metadata": {},
   "outputs": [
    {
     "data": {
      "text/plain": [
       "<Figure size 800x800 with 0 Axes>"
      ]
     },
     "execution_count": 252,
     "metadata": {},
     "output_type": "execute_result"
    },
    {
     "data": {
      "text/plain": [
       "<Figure size 800x800 with 0 Axes>"
      ]
     },
     "metadata": {},
     "output_type": "display_data"
    }
   ],
   "source": [
    "plt.figure(figsize=(8,8))"
   ]
  },
  {
   "cell_type": "code",
   "execution_count": 254,
   "id": "46476969-ffb4-4009-a026-ea2c5322f04e",
   "metadata": {},
   "outputs": [
    {
     "ename": "ValueError",
     "evalue": "x and y must be the same size",
     "output_type": "error",
     "traceback": [
      "\u001b[1;31m---------------------------------------------------------------------------\u001b[0m",
      "\u001b[1;31mValueError\u001b[0m                                Traceback (most recent call last)",
      "Cell \u001b[1;32mIn[254], line 1\u001b[0m\n\u001b[1;32m----> 1\u001b[0m plt\u001b[38;5;241m.\u001b[39mscatter(x,y,color\u001b[38;5;241m=\u001b[39m\u001b[38;5;124m\"\u001b[39m\u001b[38;5;124mblue\u001b[39m\u001b[38;5;124m\"\u001b[39m,label\u001b[38;5;241m=\u001b[39m\u001b[38;5;124m\"\u001b[39m\u001b[38;5;124mData Points\u001b[39m\u001b[38;5;124m\"\u001b[39m)\n",
      "File \u001b[1;32m~\\anaconda3\\Lib\\site-packages\\matplotlib\\pyplot.py:3699\u001b[0m, in \u001b[0;36mscatter\u001b[1;34m(x, y, s, c, marker, cmap, norm, vmin, vmax, alpha, linewidths, edgecolors, plotnonfinite, data, **kwargs)\u001b[0m\n\u001b[0;32m   3680\u001b[0m \u001b[38;5;129m@_copy_docstring_and_deprecators\u001b[39m(Axes\u001b[38;5;241m.\u001b[39mscatter)\n\u001b[0;32m   3681\u001b[0m \u001b[38;5;28;01mdef\u001b[39;00m \u001b[38;5;21mscatter\u001b[39m(\n\u001b[0;32m   3682\u001b[0m     x: \u001b[38;5;28mfloat\u001b[39m \u001b[38;5;241m|\u001b[39m ArrayLike,\n\u001b[1;32m   (...)\u001b[0m\n\u001b[0;32m   3697\u001b[0m     \u001b[38;5;241m*\u001b[39m\u001b[38;5;241m*\u001b[39mkwargs,\n\u001b[0;32m   3698\u001b[0m ) \u001b[38;5;241m-\u001b[39m\u001b[38;5;241m>\u001b[39m PathCollection:\n\u001b[1;32m-> 3699\u001b[0m     __ret \u001b[38;5;241m=\u001b[39m gca()\u001b[38;5;241m.\u001b[39mscatter(\n\u001b[0;32m   3700\u001b[0m         x,\n\u001b[0;32m   3701\u001b[0m         y,\n\u001b[0;32m   3702\u001b[0m         s\u001b[38;5;241m=\u001b[39ms,\n\u001b[0;32m   3703\u001b[0m         c\u001b[38;5;241m=\u001b[39mc,\n\u001b[0;32m   3704\u001b[0m         marker\u001b[38;5;241m=\u001b[39mmarker,\n\u001b[0;32m   3705\u001b[0m         cmap\u001b[38;5;241m=\u001b[39mcmap,\n\u001b[0;32m   3706\u001b[0m         norm\u001b[38;5;241m=\u001b[39mnorm,\n\u001b[0;32m   3707\u001b[0m         vmin\u001b[38;5;241m=\u001b[39mvmin,\n\u001b[0;32m   3708\u001b[0m         vmax\u001b[38;5;241m=\u001b[39mvmax,\n\u001b[0;32m   3709\u001b[0m         alpha\u001b[38;5;241m=\u001b[39malpha,\n\u001b[0;32m   3710\u001b[0m         linewidths\u001b[38;5;241m=\u001b[39mlinewidths,\n\u001b[0;32m   3711\u001b[0m         edgecolors\u001b[38;5;241m=\u001b[39medgecolors,\n\u001b[0;32m   3712\u001b[0m         plotnonfinite\u001b[38;5;241m=\u001b[39mplotnonfinite,\n\u001b[0;32m   3713\u001b[0m         \u001b[38;5;241m*\u001b[39m\u001b[38;5;241m*\u001b[39m({\u001b[38;5;124m\"\u001b[39m\u001b[38;5;124mdata\u001b[39m\u001b[38;5;124m\"\u001b[39m: data} \u001b[38;5;28;01mif\u001b[39;00m data \u001b[38;5;129;01mis\u001b[39;00m \u001b[38;5;129;01mnot\u001b[39;00m \u001b[38;5;28;01mNone\u001b[39;00m \u001b[38;5;28;01melse\u001b[39;00m {}),\n\u001b[0;32m   3714\u001b[0m         \u001b[38;5;241m*\u001b[39m\u001b[38;5;241m*\u001b[39mkwargs,\n\u001b[0;32m   3715\u001b[0m     )\n\u001b[0;32m   3716\u001b[0m     sci(__ret)\n\u001b[0;32m   3717\u001b[0m     \u001b[38;5;28;01mreturn\u001b[39;00m __ret\n",
      "File \u001b[1;32m~\\anaconda3\\Lib\\site-packages\\matplotlib\\__init__.py:1465\u001b[0m, in \u001b[0;36m_preprocess_data.<locals>.inner\u001b[1;34m(ax, data, *args, **kwargs)\u001b[0m\n\u001b[0;32m   1462\u001b[0m \u001b[38;5;129m@functools\u001b[39m\u001b[38;5;241m.\u001b[39mwraps(func)\n\u001b[0;32m   1463\u001b[0m \u001b[38;5;28;01mdef\u001b[39;00m \u001b[38;5;21minner\u001b[39m(ax, \u001b[38;5;241m*\u001b[39margs, data\u001b[38;5;241m=\u001b[39m\u001b[38;5;28;01mNone\u001b[39;00m, \u001b[38;5;241m*\u001b[39m\u001b[38;5;241m*\u001b[39mkwargs):\n\u001b[0;32m   1464\u001b[0m     \u001b[38;5;28;01mif\u001b[39;00m data \u001b[38;5;129;01mis\u001b[39;00m \u001b[38;5;28;01mNone\u001b[39;00m:\n\u001b[1;32m-> 1465\u001b[0m         \u001b[38;5;28;01mreturn\u001b[39;00m func(ax, \u001b[38;5;241m*\u001b[39m\u001b[38;5;28mmap\u001b[39m(sanitize_sequence, args), \u001b[38;5;241m*\u001b[39m\u001b[38;5;241m*\u001b[39mkwargs)\n\u001b[0;32m   1467\u001b[0m     bound \u001b[38;5;241m=\u001b[39m new_sig\u001b[38;5;241m.\u001b[39mbind(ax, \u001b[38;5;241m*\u001b[39margs, \u001b[38;5;241m*\u001b[39m\u001b[38;5;241m*\u001b[39mkwargs)\n\u001b[0;32m   1468\u001b[0m     auto_label \u001b[38;5;241m=\u001b[39m (bound\u001b[38;5;241m.\u001b[39marguments\u001b[38;5;241m.\u001b[39mget(label_namer)\n\u001b[0;32m   1469\u001b[0m                   \u001b[38;5;129;01mor\u001b[39;00m bound\u001b[38;5;241m.\u001b[39mkwargs\u001b[38;5;241m.\u001b[39mget(label_namer))\n",
      "File \u001b[1;32m~\\anaconda3\\Lib\\site-packages\\matplotlib\\axes\\_axes.py:4655\u001b[0m, in \u001b[0;36mAxes.scatter\u001b[1;34m(self, x, y, s, c, marker, cmap, norm, vmin, vmax, alpha, linewidths, edgecolors, plotnonfinite, **kwargs)\u001b[0m\n\u001b[0;32m   4653\u001b[0m y \u001b[38;5;241m=\u001b[39m np\u001b[38;5;241m.\u001b[39mma\u001b[38;5;241m.\u001b[39mravel(y)\n\u001b[0;32m   4654\u001b[0m \u001b[38;5;28;01mif\u001b[39;00m x\u001b[38;5;241m.\u001b[39msize \u001b[38;5;241m!=\u001b[39m y\u001b[38;5;241m.\u001b[39msize:\n\u001b[1;32m-> 4655\u001b[0m     \u001b[38;5;28;01mraise\u001b[39;00m \u001b[38;5;167;01mValueError\u001b[39;00m(\u001b[38;5;124m\"\u001b[39m\u001b[38;5;124mx and y must be the same size\u001b[39m\u001b[38;5;124m\"\u001b[39m)\n\u001b[0;32m   4657\u001b[0m \u001b[38;5;28;01mif\u001b[39;00m s \u001b[38;5;129;01mis\u001b[39;00m \u001b[38;5;28;01mNone\u001b[39;00m:\n\u001b[0;32m   4658\u001b[0m     s \u001b[38;5;241m=\u001b[39m (\u001b[38;5;241m20\u001b[39m \u001b[38;5;28;01mif\u001b[39;00m mpl\u001b[38;5;241m.\u001b[39mrcParams[\u001b[38;5;124m'\u001b[39m\u001b[38;5;124m_internal.classic_mode\u001b[39m\u001b[38;5;124m'\u001b[39m] \u001b[38;5;28;01melse\u001b[39;00m\n\u001b[0;32m   4659\u001b[0m          mpl\u001b[38;5;241m.\u001b[39mrcParams[\u001b[38;5;124m'\u001b[39m\u001b[38;5;124mlines.markersize\u001b[39m\u001b[38;5;124m'\u001b[39m] \u001b[38;5;241m*\u001b[39m\u001b[38;5;241m*\u001b[39m \u001b[38;5;241m2.0\u001b[39m)\n",
      "\u001b[1;31mValueError\u001b[0m: x and y must be the same size"
     ]
    },
    {
     "data": {
      "image/png": "[encoded data removed]",
      "text/plain": [
       "<Figure size 640x480 with 1 Axes>"
      ]
     },
     "metadata": {},
     "output_type": "display_data"
    }
   ],
   "source": [
    "plt.scatter(x,y,color=\"blue\",label=\"Data Points\")"
   ]
  },
  {
   "cell_type": "code",
   "execution_count": 266,
   "id": "007a493e-aa52-4222-955c-38b4dbcfc2ab",
   "metadata": {},
   "outputs": [
    {
     "ename": "TypeError",
     "evalue": "LinearModel.predict() missing 1 required positional argument: 'X'",
     "output_type": "error",
     "traceback": [
      "\u001b[1;31m---------------------------------------------------------------------------\u001b[0m",
      "\u001b[1;31mTypeError\u001b[0m                                 Traceback (most recent call last)",
      "Cell \u001b[1;32mIn[266], line 1\u001b[0m\n\u001b[1;32m----> 1\u001b[0m plt\u001b[38;5;241m.\u001b[39mplot(x, Lasso\u001b[38;5;241m.\u001b[39mpredict(x), color\u001b[38;5;241m=\u001b[39m\u001b[38;5;124m\"\u001b[39m\u001b[38;5;124mred\u001b[39m\u001b[38;5;124m\"\u001b[39m, linewidth\u001b[38;5;241m=\u001b[39m\u001b[38;5;241m2\u001b[39m, label\u001b[38;5;241m=\u001b[39m\u001b[38;5;124m\"\u001b[39m\u001b[38;5;124mLasso Regression Line\u001b[39m\u001b[38;5;124m\"\u001b[39m)\n",
      "\u001b[1;31mTypeError\u001b[0m: LinearModel.predict() missing 1 required positional argument: 'X'"
     ]
    }
   ],
   "source": [
    "plt.plot(x, Lasso.predict(x), color=\"red\", linewidth=2, label=\"Lasso Regression Line\")"
   ]
  },
  {
   "cell_type": "code",
   "execution_count": 272,
   "id": "e16ebdcb-27fd-4f2f-9455-4797bfde26fe",
   "metadata": {},
   "outputs": [
    {
     "data": {
      "text/plain": [
       "Text(0.5, 0, 'Feature')"
      ]
     },
     "execution_count": 272,
     "metadata": {},
     "output_type": "execute_result"
    },
    {
     "data": {
      "image/png": "[encoded data removed]",
      "text/plain": [
       "<Figure size 640x480 with 1 Axes>"
      ]
     },
     "metadata": {},
     "output_type": "display_data"
    }
   ],
   "source": [
    "plt.xlabel('Feature')"
   ]
  },
  {
   "cell_type": "code",
   "execution_count": 274,
   "id": "9cae0b4f-50db-4d92-81cb-a8a6b073bea7",
   "metadata": {},
   "outputs": [
    {
     "data": {
      "text/plain": [
       "Text(0, 0.5, 'Profit')"
      ]
     },
     "execution_count": 274,
     "metadata": {},
     "output_type": "execute_result"
    },
    {
     "data": {
      "image/png": "[encoded data removed]",
      "text/plain": [
       "<Figure size 640x480 with 1 Axes>"
      ]
     },
     "metadata": {},
     "output_type": "display_data"
    }
   ],
   "source": [
    "plt.ylabel('Profit')"
   ]
  },
  {
   "cell_type": "code",
   "execution_count": 276,
   "id": "1a267f3f-0757-4e63-ad53-e21467fff051",
   "metadata": {},
   "outputs": [
    {
     "data": {
      "text/plain": [
       "Text(0.5, 1.0, 'Lasso Regression')"
      ]
     },
     "execution_count": 276,
     "metadata": {},
     "output_type": "execute_result"
    },
    {
     "data": {
      "image/png": "[encoded data removed]",
      "text/plain": [
       "<Figure size 640x480 with 1 Axes>"
      ]
     },
     "metadata": {},
     "output_type": "display_data"
    }
   ],
   "source": [
    "plt.title('Lasso Regression')"
   ]
  },
  {
   "cell_type": "code",
   "execution_count": 280,
   "id": "3dd90332-b898-4dd2-9ea4-86adc9c1dcfb",
   "metadata": {},
   "outputs": [],
   "source": [
    "plt.show()"
   ]
  },
  {
   "cell_type": "code",
   "execution_count": 282,
   "id": "f0a26e01-d973-4cef-b151-a81878d5f166",
   "metadata": {},
   "outputs": [
    {
     "ename": "AttributeError",
     "evalue": "type object 'Lasso' has no attribute 'coef_'",
     "output_type": "error",
     "traceback": [
      "\u001b[1;31m---------------------------------------------------------------------------\u001b[0m",
      "\u001b[1;31mAttributeError\u001b[0m                            Traceback (most recent call last)",
      "Cell \u001b[1;32mIn[282], line 1\u001b[0m\n\u001b[1;32m----> 1\u001b[0m \u001b[38;5;28mprint\u001b[39m(\u001b[38;5;124m\"\u001b[39m\u001b[38;5;124mLasso Coefficients:\u001b[39m\u001b[38;5;124m\"\u001b[39m,Lasso\u001b[38;5;241m.\u001b[39mcoef_)\n",
      "\u001b[1;31mAttributeError\u001b[0m: type object 'Lasso' has no attribute 'coef_'"
     ]
    }
   ],
   "source": [
    "print(\"Lasso Coefficients:\",Lasso.coef_)"
   ]
  },
  {
   "cell_type": "code",
   "execution_count": 50,
   "id": "c406d95b-8d74-418e-93e7-714d4b7814ef",
   "metadata": {},
   "outputs": [],
   "source": [
    "##DECISION TREE REGRESSION MODEALING"
   ]
  },
  {
   "cell_type": "code",
   "execution_count": 175,
   "id": "4416892e-2f18-42ce-92db-44d1d13fe2cf",
   "metadata": {},
   "outputs": [],
   "source": [
    "\n",
    "from sklearn.tree import DecisionTreeRegressor,plot_tree"
   ]
  },
  {
   "cell_type": "code",
   "execution_count": 52,
   "id": "d1c4f232-27b8-4e90-8684-8ca935a51bc3",
   "metadata": {},
   "outputs": [],
   "source": [
    "regressor = DecisionTreeRegressor(random_state=0)"
   ]
  },
  {
   "cell_type": "code",
   "execution_count": 177,
   "id": "ff116b27-9235-4d7d-a059-a5e0f0ece532",
   "metadata": {},
   "outputs": [],
   "source": [
    "dt_regressor = DecisionTreeRegressor(random_state=42)"
   ]
  },
  {
   "cell_type": "code",
   "execution_count": 179,
   "id": "182edb7d-40c7-47f3-b69a-54f7611f5940",
   "metadata": {},
   "outputs": [
    {
     "data": {
      "text/html": [
       "<style>#sk-container-id-5 {\n",
       "  /* Definition of color scheme common for light and dark mode */\n",
       "  --sklearn-color-text: black;\n",
       "  --sklearn-color-line: gray;\n",
       "  /* Definition of color scheme for unfitted estimators */\n",
       "  --sklearn-color-unfitted-level-0: #fff5e6;\n",
       "  --sklearn-color-unfitted-level-1: #f6e4d2;\n",
       "  --sklearn-color-unfitted-level-2: #ffe0b3;\n",
       "  --sklearn-color-unfitted-level-3: chocolate;\n",
       "  /* Definition of color scheme for fitted estimators */\n",
       "  --sklearn-color-fitted-level-0: #f0f8ff;\n",
       "  --sklearn-color-fitted-level-1: #d4ebff;\n",
       "  --sklearn-color-fitted-level-2: #b3dbfd;\n",
       "  --sklearn-color-fitted-level-3: cornflowerblue;\n",
       "\n",
       "  /* Specific color for light theme */\n",
       "  --sklearn-color-text-on-default-background: var(--sg-text-color, var(--theme-code-foreground, var(--jp-content-font-color1, black)));\n",
       "  --sklearn-color-background: var(--sg-background-color, var(--theme-background, var(--jp-layout-color0, white)));\n",
       "  --sklearn-color-border-box: var(--sg-text-color, var(--theme-code-foreground, var(--jp-content-font-color1, black)));\n",
       "  --sklearn-color-icon: #696969;\n",
       "\n",
       "  @media (prefers-color-scheme: dark) {\n",
       "    /* Redefinition of color scheme for dark theme */\n",
       "    --sklearn-color-text-on-default-background: var(--sg-text-color, var(--theme-code-foreground, var(--jp-content-font-color1, white)));\n",
       "    --sklearn-color-background: var(--sg-background-color, var(--theme-background, var(--jp-layout-color0, #111)));\n",
       "    --sklearn-color-border-box: var(--sg-text-color, var(--theme-code-foreground, var(--jp-content-font-color1, white)));\n",
       "    --sklearn-color-icon: #878787;\n",
       "  }\n",
       "}\n",
       "\n",
       "#sk-container-id-5 {\n",
       "  color: var(--sklearn-color-text);\n",
       "}\n",
       "\n",
       "#sk-container-id-5 pre {\n",
       "  padding: 0;\n",
       "}\n",
       "\n",
       "#sk-container-id-5 input.sk-hidden--visually {\n",
       "  border: 0;\n",
       "  clip: rect(1px 1px 1px 1px);\n",
       "  clip: rect(1px, 1px, 1px, 1px);\n",
       "  height: 1px;\n",
       "  margin: -1px;\n",
       "  overflow: hidden;\n",
       "  padding: 0;\n",
       "  position: absolute;\n",
       "  width: 1px;\n",
       "}\n",
       "\n",
       "#sk-container-id-5 div.sk-dashed-wrapped {\n",
       "  border: 1px dashed var(--sklearn-color-line);\n",
       "  margin: 0 0.4em 0.5em 0.4em;\n",
       "  box-sizing: border-box;\n",
       "  padding-bottom: 0.4em;\n",
       "  background-color: var(--sklearn-color-background);\n",
       "}\n",
       "\n",
       "#sk-container-id-5 div.sk-container {\n",
       "  /* jupyter's `normalize.less` sets `[hidden] { display: none; }`\n",
       "     but bootstrap.min.css set `[hidden] { display: none !important; }`\n",
       "     so we also need the `!important` here to be able to override the\n",
       "     default hidden behavior on the sphinx rendered scikit-learn.org.\n",
       "     See: https://github.com/scikit-learn/scikit-learn/issues/21755 */\n",
       "  display: inline-block !important;\n",
       "  position: relative;\n",
       "}\n",
       "\n",
       "#sk-container-id-5 div.sk-text-repr-fallback {\n",
       "  display: none;\n",
       "}\n",
       "\n",
       "div.sk-parallel-item,\n",
       "div.sk-serial,\n",
       "div.sk-item {\n",
       "  /* draw centered vertical line to link estimators */\n",
       "  background-image: linear-gradient(var(--sklearn-color-text-on-default-background), var(--sklearn-color-text-on-default-background));\n",
       "  background-size: 2px 100%;\n",
       "  background-repeat: no-repeat;\n",
       "  background-position: center center;\n",
       "}\n",
       "\n",
       "/* Parallel-specific style estimator block */\n",
       "\n",
       "#sk-container-id-5 div.sk-parallel-item::after {\n",
       "  content: \"\";\n",
       "  width: 100%;\n",
       "  border-bottom: 2px solid var(--sklearn-color-text-on-default-background);\n",
       "  flex-grow: 1;\n",
       "}\n",
       "\n",
       "#sk-container-id-5 div.sk-parallel {\n",
       "  display: flex;\n",
       "  align-items: stretch;\n",
       "  justify-content: center;\n",
       "  background-color: var(--sklearn-color-background);\n",
       "  position: relative;\n",
       "}\n",
       "\n",
       "#sk-container-id-5 div.sk-parallel-item {\n",
       "  display: flex;\n",
       "  flex-direction: column;\n",
       "}\n",
       "\n",
       "#sk-container-id-5 div.sk-parallel-item:first-child::after {\n",
       "  align-self: flex-end;\n",
       "  width: 50%;\n",
       "}\n",
       "\n",
       "#sk-container-id-5 div.sk-parallel-item:last-child::after {\n",
       "  align-self: flex-start;\n",
       "  width: 50%;\n",
       "}\n",
       "\n",
       "#sk-container-id-5 div.sk-parallel-item:only-child::after {\n",
       "  width: 0;\n",
       "}\n",
       "\n",
       "/* Serial-specific style estimator block */\n",
       "\n",
       "#sk-container-id-5 div.sk-serial {\n",
       "  display: flex;\n",
       "  flex-direction: column;\n",
       "  align-items: center;\n",
       "  background-color: var(--sklearn-color-background);\n",
       "  padding-right: 1em;\n",
       "  padding-left: 1em;\n",
       "}\n",
       "\n",
       "\n",
       "/* Toggleable style: style used for estimator/Pipeline/ColumnTransformer box that is\n",
       "clickable and can be expanded/collapsed.\n",
       "- Pipeline and ColumnTransformer use this feature and define the default style\n",
       "- Estimators will overwrite some part of the style using the `sk-estimator` class\n",
       "*/\n",
       "\n",
       "/* Pipeline and ColumnTransformer style (default) */\n",
       "\n",
       "#sk-container-id-5 div.sk-toggleable {\n",
       "  /* Default theme specific background. It is overwritten whether we have a\n",
       "  specific estimator or a Pipeline/ColumnTransformer */\n",
       "  background-color: var(--sklearn-color-background);\n",
       "}\n",
       "\n",
       "/* Toggleable label */\n",
       "#sk-container-id-5 label.sk-toggleable__label {\n",
       "  cursor: pointer;\n",
       "  display: block;\n",
       "  width: 100%;\n",
       "  margin-bottom: 0;\n",
       "  padding: 0.5em;\n",
       "  box-sizing: border-box;\n",
       "  text-align: center;\n",
       "}\n",
       "\n",
       "#sk-container-id-5 label.sk-toggleable__label-arrow:before {\n",
       "  /* Arrow on the left of the label */\n",
       "  content: \"▸\";\n",
       "  float: left;\n",
       "  margin-right: 0.25em;\n",
       "  color: var(--sklearn-color-icon);\n",
       "}\n",
       "\n",
       "#sk-container-id-5 label.sk-toggleable__label-arrow:hover:before {\n",
       "  color: var(--sklearn-color-text);\n",
       "}\n",
       "\n",
       "/* Toggleable content - dropdown */\n",
       "\n",
       "#sk-container-id-5 div.sk-toggleable__content {\n",
       "  max-height: 0;\n",
       "  max-width: 0;\n",
       "  overflow: hidden;\n",
       "  text-align: left;\n",
       "  /* unfitted */\n",
       "  background-color: var(--sklearn-color-unfitted-level-0);\n",
       "}\n",
       "\n",
       "#sk-container-id-5 div.sk-toggleable__content.fitted {\n",
       "  /* fitted */\n",
       "  background-color: var(--sklearn-color-fitted-level-0);\n",
       "}\n",
       "\n",
       "#sk-container-id-5 div.sk-toggleable__content pre {\n",
       "  margin: 0.2em;\n",
       "  border-radius: 0.25em;\n",
       "  color: var(--sklearn-color-text);\n",
       "  /* unfitted */\n",
       "  background-color: var(--sklearn-color-unfitted-level-0);\n",
       "}\n",
       "\n",
       "#sk-container-id-5 div.sk-toggleable__content.fitted pre {\n",
       "  /* unfitted */\n",
       "  background-color: var(--sklearn-color-fitted-level-0);\n",
       "}\n",
       "\n",
       "#sk-container-id-5 input.sk-toggleable__control:checked~div.sk-toggleable__content {\n",
       "  /* Expand drop-down */\n",
       "  max-height: 200px;\n",
       "  max-width: 100%;\n",
       "  overflow: auto;\n",
       "}\n",
       "\n",
       "#sk-container-id-5 input.sk-toggleable__control:checked~label.sk-toggleable__label-arrow:before {\n",
       "  content: \"▾\";\n",
       "}\n",
       "\n",
       "/* Pipeline/ColumnTransformer-specific style */\n",
       "\n",
       "#sk-container-id-5 div.sk-label input.sk-toggleable__control:checked~label.sk-toggleable__label {\n",
       "  color: var(--sklearn-color-text);\n",
       "  background-color: var(--sklearn-color-unfitted-level-2);\n",
       "}\n",
       "\n",
       "#sk-container-id-5 div.sk-label.fitted input.sk-toggleable__control:checked~label.sk-toggleable__label {\n",
       "  background-color: var(--sklearn-color-fitted-level-2);\n",
       "}\n",
       "\n",
       "/* Estimator-specific style */\n",
       "\n",
       "/* Colorize estimator box */\n",
       "#sk-container-id-5 div.sk-estimator input.sk-toggleable__control:checked~label.sk-toggleable__label {\n",
       "  /* unfitted */\n",
       "  background-color: var(--sklearn-color-unfitted-level-2);\n",
       "}\n",
       "\n",
       "#sk-container-id-5 div.sk-estimator.fitted input.sk-toggleable__control:checked~label.sk-toggleable__label {\n",
       "  /* fitted */\n",
       "  background-color: var(--sklearn-color-fitted-level-2);\n",
       "}\n",
       "\n",
       "#sk-container-id-5 div.sk-label label.sk-toggleable__label,\n",
       "#sk-container-id-5 div.sk-label label {\n",
       "  /* The background is the default theme color */\n",
       "  color: var(--sklearn-color-text-on-default-background);\n",
       "}\n",
       "\n",
       "/* On hover, darken the color of the background */\n",
       "#sk-container-id-5 div.sk-label:hover label.sk-toggleable__label {\n",
       "  color: var(--sklearn-color-text);\n",
       "  background-color: var(--sklearn-color-unfitted-level-2);\n",
       "}\n",
       "\n",
       "/* Label box, darken color on hover, fitted */\n",
       "#sk-container-id-5 div.sk-label.fitted:hover label.sk-toggleable__label.fitted {\n",
       "  color: var(--sklearn-color-text);\n",
       "  background-color: var(--sklearn-color-fitted-level-2);\n",
       "}\n",
       "\n",
       "/* Estimator label */\n",
       "\n",
       "#sk-container-id-5 div.sk-label label {\n",
       "  font-family: monospace;\n",
       "  font-weight: bold;\n",
       "  display: inline-block;\n",
       "  line-height: 1.2em;\n",
       "}\n",
       "\n",
       "#sk-container-id-5 div.sk-label-container {\n",
       "  text-align: center;\n",
       "}\n",
       "\n",
       "/* Estimator-specific */\n",
       "#sk-container-id-5 div.sk-estimator {\n",
       "  font-family: monospace;\n",
       "  border: 1px dotted var(--sklearn-color-border-box);\n",
       "  border-radius: 0.25em;\n",
       "  box-sizing: border-box;\n",
       "  margin-bottom: 0.5em;\n",
       "  /* unfitted */\n",
       "  background-color: var(--sklearn-color-unfitted-level-0);\n",
       "}\n",
       "\n",
       "#sk-container-id-5 div.sk-estimator.fitted {\n",
       "  /* fitted */\n",
       "  background-color: var(--sklearn-color-fitted-level-0);\n",
       "}\n",
       "\n",
       "/* on hover */\n",
       "#sk-container-id-5 div.sk-estimator:hover {\n",
       "  /* unfitted */\n",
       "  background-color: var(--sklearn-color-unfitted-level-2);\n",
       "}\n",
       "\n",
       "#sk-container-id-5 div.sk-estimator.fitted:hover {\n",
       "  /* fitted */\n",
       "  background-color: var(--sklearn-color-fitted-level-2);\n",
       "}\n",
       "\n",
       "/* Specification for estimator info (e.g. \"i\" and \"?\") */\n",
       "\n",
       "/* Common style for \"i\" and \"?\" */\n",
       "\n",
       ".sk-estimator-doc-link,\n",
       "a:link.sk-estimator-doc-link,\n",
       "a:visited.sk-estimator-doc-link {\n",
       "  float: right;\n",
       "  font-size: smaller;\n",
       "  line-height: 1em;\n",
       "  font-family: monospace;\n",
       "  background-color: var(--sklearn-color-background);\n",
       "  border-radius: 1em;\n",
       "  height: 1em;\n",
       "  width: 1em;\n",
       "  text-decoration: none !important;\n",
       "  margin-left: 1ex;\n",
       "  /* unfitted */\n",
       "  border: var(--sklearn-color-unfitted-level-1) 1pt solid;\n",
       "  color: var(--sklearn-color-unfitted-level-1);\n",
       "}\n",
       "\n",
       ".sk-estimator-doc-link.fitted,\n",
       "a:link.sk-estimator-doc-link.fitted,\n",
       "a:visited.sk-estimator-doc-link.fitted {\n",
       "  /* fitted */\n",
       "  border: var(--sklearn-color-fitted-level-1) 1pt solid;\n",
       "  color: var(--sklearn-color-fitted-level-1);\n",
       "}\n",
       "\n",
       "/* On hover */\n",
       "div.sk-estimator:hover .sk-estimator-doc-link:hover,\n",
       ".sk-estimator-doc-link:hover,\n",
       "div.sk-label-container:hover .sk-estimator-doc-link:hover,\n",
       ".sk-estimator-doc-link:hover {\n",
       "  /* unfitted */\n",
       "  background-color: var(--sklearn-color-unfitted-level-3);\n",
       "  color: var(--sklearn-color-background);\n",
       "  text-decoration: none;\n",
       "}\n",
       "\n",
       "div.sk-estimator.fitted:hover .sk-estimator-doc-link.fitted:hover,\n",
       ".sk-estimator-doc-link.fitted:hover,\n",
       "div.sk-label-container:hover .sk-estimator-doc-link.fitted:hover,\n",
       ".sk-estimator-doc-link.fitted:hover {\n",
       "  /* fitted */\n",
       "  background-color: var(--sklearn-color-fitted-level-3);\n",
       "  color: var(--sklearn-color-background);\n",
       "  text-decoration: none;\n",
       "}\n",
       "\n",
       "/* Span, style for the box shown on hovering the info icon */\n",
       ".sk-estimator-doc-link span {\n",
       "  display: none;\n",
       "  z-index: 9999;\n",
       "  position: relative;\n",
       "  font-weight: normal;\n",
       "  right: .2ex;\n",
       "  padding: .5ex;\n",
       "  margin: .5ex;\n",
       "  width: min-content;\n",
       "  min-width: 20ex;\n",
       "  max-width: 50ex;\n",
       "  color: var(--sklearn-color-text);\n",
       "  box-shadow: 2pt 2pt 4pt #999;\n",
       "  /* unfitted */\n",
       "  background: var(--sklearn-color-unfitted-level-0);\n",
       "  border: .5pt solid var(--sklearn-color-unfitted-level-3);\n",
       "}\n",
       "\n",
       ".sk-estimator-doc-link.fitted span {\n",
       "  /* fitted */\n",
       "  background: var(--sklearn-color-fitted-level-0);\n",
       "  border: var(--sklearn-color-fitted-level-3);\n",
       "}\n",
       "\n",
       ".sk-estimator-doc-link:hover span {\n",
       "  display: block;\n",
       "}\n",
       "\n",
       "/* \"?\"-specific style due to the `<a>` HTML tag */\n",
       "\n",
       "#sk-container-id-5 a.estimator_doc_link {\n",
       "  float: right;\n",
       "  font-size: 1rem;\n",
       "  line-height: 1em;\n",
       "  font-family: monospace;\n",
       "  background-color: var(--sklearn-color-background);\n",
       "  border-radius: 1rem;\n",
       "  height: 1rem;\n",
       "  width: 1rem;\n",
       "  text-decoration: none;\n",
       "  /* unfitted */\n",
       "  color: var(--sklearn-color-unfitted-level-1);\n",
       "  border: var(--sklearn-color-unfitted-level-1) 1pt solid;\n",
       "}\n",
       "\n",
       "#sk-container-id-5 a.estimator_doc_link.fitted {\n",
       "  /* fitted */\n",
       "  border: var(--sklearn-color-fitted-level-1) 1pt solid;\n",
       "  color: var(--sklearn-color-fitted-level-1);\n",
       "}\n",
       "\n",
       "/* On hover */\n",
       "#sk-container-id-5 a.estimator_doc_link:hover {\n",
       "  /* unfitted */\n",
       "  background-color: var(--sklearn-color-unfitted-level-3);\n",
       "  color: var(--sklearn-color-background);\n",
       "  text-decoration: none;\n",
       "}\n",
       "\n",
       "#sk-container-id-5 a.estimator_doc_link.fitted:hover {\n",
       "  /* fitted */\n",
       "  background-color: var(--sklearn-color-fitted-level-3);\n",
       "}\n",
       "</style><div id=\"sk-container-id-5\" class=\"sk-top-container\"><div class=\"sk-text-repr-fallback\"><pre>DecisionTreeRegressor(random_state=42)</pre><b>In a Jupyter environment, please rerun this cell to show the HTML representation or trust the notebook. <br />On GitHub, the HTML representation is unable to render, please try loading this page with nbviewer.org.</b></div><div class=\"sk-container\" hidden><div class=\"sk-item\"><div class=\"sk-estimator fitted sk-toggleable\"><input class=\"sk-toggleable__control sk-hidden--visually\" id=\"sk-estimator-id-5\" type=\"checkbox\" checked><label for=\"sk-estimator-id-5\" class=\"sk-toggleable__label fitted sk-toggleable__label-arrow fitted\">&nbsp;&nbsp;DecisionTreeRegressor<a class=\"sk-estimator-doc-link fitted\" rel=\"noreferrer\" target=\"_blank\" href=\"https://scikit-learn.org/1.4/modules/generated/sklearn.tree.DecisionTreeRegressor.html\">?<span>Documentation for DecisionTreeRegressor</span></a><span class=\"sk-estimator-doc-link fitted\">i<span>Fitted</span></span></label><div class=\"sk-toggleable__content fitted\"><pre>DecisionTreeRegressor(random_state=42)</pre></div> </div></div></div></div>"
      ],
      "text/plain": [
       "DecisionTreeRegressor(random_state=42)"
      ]
     },
     "execution_count": 179,
     "metadata": {},
     "output_type": "execute_result"
    }
   ],
   "source": [
    "dt_regressor.fit(x_train, y_train)"
   ]
  },
  {
   "cell_type": "code",
   "execution_count": 54,
   "id": "04cedd26-31a2-47ba-9aa5-3416da6dc446",
   "metadata": {},
   "outputs": [],
   "source": [
    "#Model Evaluation"
   ]
  },
  {
   "cell_type": "code",
   "execution_count": 55,
   "id": "d57e35d5-d3a6-43b8-9cdf-4a1c1fef589d",
   "metadata": {},
   "outputs": [],
   "source": [
    "y_pred =regressor.predict(x_test)"
   ]
  },
  {
   "cell_type": "code",
   "execution_count": 56,
   "id": "6998ed9d-34ac-4e65-8212-e29db137da3d",
   "metadata": {},
   "outputs": [],
   "source": [
    "mse=mean_squared_error(y_test, y_pred)"
   ]
  },
  {
   "cell_type": "code",
   "execution_count": 131,
   "id": "f6f2c8cb-b272-4eb4-954a-9dcd475e03a2",
   "metadata": {},
   "outputs": [],
   "source": [
    "rmse=mse**0.5"
   ]
  },
  {
   "cell_type": "code",
   "execution_count": 58,
   "id": "ada9c4dc-be86-4814-895f-42f238fc03dc",
   "metadata": {},
   "outputs": [],
   "source": [
    "r2=r2_score(y_test, y_pred)"
   ]
  },
  {
   "cell_type": "code",
   "execution_count": 59,
   "id": "f6919429-e214-4aa3-96cc-3a2fd1b45ac7",
   "metadata": {},
   "outputs": [
    {
     "name": "stdout",
     "output_type": "stream",
     "text": [
      "RMSE: 12722.071779191465\n"
     ]
    }
   ],
   "source": [
    "print(f'RMSE: {rmse}')\n"
   ]
  },
  {
   "cell_type": "code",
   "execution_count": 133,
   "id": "73cb364d-e274-45c5-9fb4-49669a1086fa",
   "metadata": {},
   "outputs": [
    {
     "name": "stdout",
     "output_type": "stream",
     "text": [
      "R-squared: 0.800132508563502\n"
     ]
    }
   ],
   "source": [
    "print(f'R-squared: {r2}')\n"
   ]
  },
  {
   "cell_type": "code",
   "execution_count": 153,
   "id": "1cd68503-6701-42d4-a275-68834084f7d0",
   "metadata": {},
   "outputs": [],
   "source": [
    "from sklearn.tree import plot_tree"
   ]
  },
  {
   "cell_type": "code",
   "execution_count": 157,
   "id": "3bd152bd-0060-4eff-8735-1cbe66049fa6",
   "metadata": {},
   "outputs": [
    {
     "data": {
      "text/plain": [
       "<Figure size 2000x1000 with 0 Axes>"
      ]
     },
     "execution_count": 157,
     "metadata": {},
     "output_type": "execute_result"
    },
    {
     "data": {
      "text/plain": [
       "<Figure size 2000x1000 with 0 Axes>"
      ]
     },
     "metadata": {},
     "output_type": "display_data"
    }
   ],
   "source": [
    "plt.figure(figsize=(20,10))"
   ]
  },
  {
   "cell_type": "code",
   "execution_count": 181,
   "id": "41d6410d-fd38-4759-804d-6fb11b91bf49",
   "metadata": {},
   "outputs": [
    {
     "data": {
      "text/plain": [
       "[Text(0.5612980769230769, 0.9444444444444444, 'R&D Spend <= 85069.312\\nsquared_error = 1721457930.465\\nsamples = 40\\nvalue = 115651.721'),\n",
       " Text(0.2668269230769231, 0.8333333333333334, 'R&D Spend <= 28278.34\\nsquared_error = 652327192.585\\nsamples = 24\\nvalue = 88011.8'),\n",
       " Text(0.10576923076923077, 0.7222222222222222, 'R&D Spend <= 8410.595\\nsquared_error = 435347476.874\\nsamples = 8\\nvalue = 59027.196'),\n",
       " Text(0.057692307692307696, 0.6111111111111112, 'Marketing Spend <= 171143.764\\nsquared_error = 226325685.472\\nsamples = 3\\nvalue = 35577.293'),\n",
       " Text(0.038461538461538464, 0.5, 'Administration <= 126205.359\\nsquared_error = 194300320.897\\nsamples = 2\\nvalue = 28620.565'),\n",
       " Text(0.019230769230769232, 0.3888888888888889, 'squared_error = 0.0\\nsamples = 1\\nvalue = 14681.4'),\n",
       " Text(0.057692307692307696, 0.3888888888888889, 'squared_error = 0.0\\nsamples = 1\\nvalue = 42559.73'),\n",
       " Text(0.07692307692307693, 0.5, 'squared_error = 0.0\\nsamples = 1\\nvalue = 49490.75'),\n",
       " Text(0.15384615384615385, 0.6111111111111112, 'Administration <= 90450.203\\nsquared_error = 32858522.785\\nsamples = 5\\nvalue = 73097.138'),\n",
       " Text(0.11538461538461539, 0.5, 'R&D Spend <= 24061.255\\nsquared_error = 2941619.463\\nsamples = 2\\nvalue = 79513.945'),\n",
       " Text(0.09615384615384616, 0.3888888888888889, 'squared_error = 0.0\\nsamples = 1\\nvalue = 81229.06'),\n",
       " Text(0.1346153846153846, 0.3888888888888889, 'squared_error = -0.0\\nsamples = 1\\nvalue = 77798.83'),\n",
       " Text(0.19230769230769232, 0.5, 'Administration <= 141094.219\\nsquared_error = 7052667.139\\nsamples = 3\\nvalue = 68819.267'),\n",
       " Text(0.17307692307692307, 0.3888888888888889, 'Marketing Spend <= 91767.641\\nsquared_error = 756473.76\\nsamples = 2\\nvalue = 70628.735'),\n",
       " Text(0.15384615384615385, 0.2777777777777778, 'squared_error = 0.0\\nsamples = 1\\nvalue = 69758.98'),\n",
       " Text(0.19230769230769232, 0.2777777777777778, 'squared_error = 0.0\\nsamples = 1\\nvalue = 71498.49'),\n",
       " Text(0.21153846153846154, 0.3888888888888889, 'squared_error = -0.0\\nsamples = 1\\nvalue = 65200.33'),\n",
       " Text(0.42788461538461536, 0.7222222222222222, 'R&D Spend <= 65828.5\\nsquared_error = 130736627.648\\nsamples = 16\\nvalue = 102504.101'),\n",
       " Text(0.3269230769230769, 0.6111111111111112, 'R&D Spend <= 45041.984\\nsquared_error = 44420084.286\\nsamples = 8\\nvalue = 93419.584'),\n",
       " Text(0.2692307692307692, 0.5, 'Marketing Spend <= 184912.547\\nsquared_error = 32571136.695\\nsamples = 3\\nvalue = 86299.08'),\n",
       " Text(0.25, 0.3888888888888889, 'squared_error = 0.0\\nsamples = 1\\nvalue = 78239.91'),\n",
       " Text(0.28846153846153844, 0.3888888888888889, 'Administration <= 89169.676\\nsquared_error = 144039.226\\nsamples = 2\\nvalue = 90328.665'),\n",
       " Text(0.2692307692307692, 0.2777777777777778, 'squared_error = 0.0\\nsamples = 1\\nvalue = 89949.14'),\n",
       " Text(0.3076923076923077, 0.2777777777777778, 'squared_error = -0.0\\nsamples = 1\\nvalue = 90708.19'),\n",
       " Text(0.38461538461538464, 0.5, 'R&D Spend <= 63370.928\\nsquared_error = 2855942.133\\nsamples = 5\\nvalue = 97691.886'),\n",
       " Text(0.36538461538461536, 0.3888888888888889, 'Marketing Spend <= 146867.934\\nsquared_error = 140446.709\\nsamples = 4\\nvalue = 96863.698'),\n",
       " Text(0.34615384615384615, 0.2777777777777778, 'squared_error = 0.0\\nsamples = 1\\nvalue = 97483.56'),\n",
       " Text(0.38461538461538464, 0.2777777777777778, 'Administration <= 94052.465\\nsquared_error = 16493.603\\nsamples = 3\\nvalue = 96657.077'),\n",
       " Text(0.36538461538461536, 0.16666666666666666, 'squared_error = 0.0\\nsamples = 1\\nvalue = 96479.51'),\n",
       " Text(0.40384615384615385, 0.16666666666666666, 'R&D Spend <= 50960.01\\nsquared_error = 1092.964\\nsamples = 2\\nvalue = 96745.86'),\n",
       " Text(0.38461538461538464, 0.05555555555555555, 'squared_error = 0.0\\nsamples = 1\\nvalue = 96712.8'),\n",
       " Text(0.4230769230769231, 0.05555555555555555, 'squared_error = -0.0\\nsamples = 1\\nvalue = 96778.92'),\n",
       " Text(0.40384615384615385, 0.3888888888888889, 'squared_error = 0.0\\nsamples = 1\\nvalue = 101004.64'),\n",
       " Text(0.5288461538461539, 0.6111111111111112, 'R&D Spend <= 75124.211\\nsquared_error = 51996254.594\\nsamples = 8\\nvalue = 111588.619'),\n",
       " Text(0.4807692307692308, 0.5, 'Administration <= 125323.648\\nsquared_error = 7983693.712\\nsamples = 4\\nvalue = 106844.232'),\n",
       " Text(0.4423076923076923, 0.3888888888888889, 'R&D Spend <= 70763.547\\nsquared_error = 654691.357\\nsamples = 2\\nvalue = 109543.12'),\n",
       " Text(0.4230769230769231, 0.2777777777777778, 'squared_error = 0.0\\nsamples = 1\\nvalue = 108733.99'),\n",
       " Text(0.46153846153846156, 0.2777777777777778, 'squared_error = 0.0\\nsamples = 1\\nvalue = 110352.25'),\n",
       " Text(0.5192307692307693, 0.3888888888888889, 'Marketing Spend <= 235666.008\\nsquared_error = 744708.591\\nsamples = 2\\nvalue = 104145.345'),\n",
       " Text(0.5, 0.2777777777777778, 'squared_error = 0.0\\nsamples = 1\\nvalue = 103282.38'),\n",
       " Text(0.5384615384615384, 0.2777777777777778, 'squared_error = 0.0\\nsamples = 1\\nvalue = 105008.31'),\n",
       " Text(0.5769230769230769, 0.5, 'Administration <= 106574.32\\nsquared_error = 50990413.697\\nsamples = 4\\nvalue = 116333.005'),\n",
       " Text(0.5576923076923077, 0.3888888888888889, 'squared_error = 0.0\\nsamples = 1\\nvalue = 108552.04'),\n",
       " Text(0.5961538461538461, 0.3888888888888889, 'Marketing Spend <= 281505.266\\nsquared_error = 41079033.226\\nsamples = 3\\nvalue = 118926.66'),\n",
       " Text(0.5769230769230769, 0.2777777777777778, 'squared_error = 0.0\\nsamples = 1\\nvalue = 126992.93'),\n",
       " Text(0.6153846153846154, 0.2777777777777778, 'R&D Spend <= 77321.664\\nsquared_error = 12820016.055\\nsamples = 2\\nvalue = 114893.525'),\n",
       " Text(0.5961538461538461, 0.16666666666666666, 'squared_error = 0.0\\nsamples = 1\\nvalue = 118474.03'),\n",
       " Text(0.6346153846153846, 0.16666666666666666, 'squared_error = 0.0\\nsamples = 1\\nvalue = 111313.02'),\n",
       " Text(0.8557692307692307, 0.8333333333333334, 'Marketing Spend <= 374684.016\\nsquared_error = 460284431.235\\nsamples = 16\\nvalue = 157111.602'),\n",
       " Text(0.7884615384615384, 0.7222222222222222, 'R&D Spend <= 120242.883\\nsquared_error = 142539963.624\\nsamples = 12\\nvalue = 146314.947'),\n",
       " Text(0.7307692307692307, 0.6111111111111112, 'Marketing Spend <= 253176.18\\nsquared_error = 64469338.083\\nsamples = 6\\nvalue = 136458.91'),\n",
       " Text(0.6923076923076923, 0.5, 'Marketing Spend <= 249791.992\\nsquared_error = 3466435.989\\nsamples = 3\\nvalue = 143988.957'),\n",
       " Text(0.6730769230769231, 0.3888888888888889, 'R&D Spend <= 101292.52\\nsquared_error = 867273.126\\nsamples = 2\\nvalue = 145190.675'),\n",
       " Text(0.6538461538461539, 0.2777777777777778, 'squared_error = 0.0\\nsamples = 1\\nvalue = 144259.4'),\n",
       " Text(0.6923076923076923, 0.2777777777777778, 'squared_error = 0.0\\nsamples = 1\\nvalue = 146121.95'),\n",
       " Text(0.7115384615384616, 0.3888888888888889, 'squared_error = -0.0\\nsamples = 1\\nvalue = 141585.52'),\n",
       " Text(0.7692307692307693, 0.5, 'Marketing Spend <= 278347.898\\nsquared_error = 12069034.573\\nsamples = 3\\nvalue = 128928.863'),\n",
       " Text(0.75, 0.3888888888888889, 'R&D Spend <= 117233.426\\nsquared_error = 1803125.268\\nsamples = 2\\nvalue = 131259.845'),\n",
       " Text(0.7307692307692307, 0.2777777777777778, 'squared_error = 0.0\\nsamples = 1\\nvalue = 129917.04'),\n",
       " Text(0.7692307692307693, 0.2777777777777778, 'squared_error = -0.0\\nsamples = 1\\nvalue = 132602.65'),\n",
       " Text(0.7884615384615384, 0.3888888888888889, 'squared_error = -0.0\\nsamples = 1\\nvalue = 124266.9'),\n",
       " Text(0.8461538461538461, 0.6111111111111112, 'Administration <= 95603.242\\nsquared_error = 26327671.615\\nsamples = 6\\nvalue = 156170.983'),\n",
       " Text(0.8269230769230769, 0.5, 'squared_error = 0.0\\nsamples = 1\\nvalue = 166187.94'),\n",
       " Text(0.8653846153846154, 0.5, 'R&D Spend <= 126816.508\\nsquared_error = 7511744.931\\nsamples = 5\\nvalue = 154167.592'),\n",
       " Text(0.8269230769230769, 0.3888888888888889, 'R&D Spend <= 121938.703\\nsquared_error = 1502843.069\\nsamples = 2\\nvalue = 150985.865'),\n",
       " Text(0.8076923076923077, 0.2777777777777778, 'squared_error = 0.0\\nsamples = 1\\nvalue = 152211.77'),\n",
       " Text(0.8461538461538461, 0.2777777777777778, 'squared_error = 0.0\\nsamples = 1\\nvalue = 149759.96'),\n",
       " Text(0.9038461538461539, 0.3888888888888889, 'Marketing Spend <= 343369.031\\nsquared_error = 269472.059\\nsamples = 3\\nvalue = 156288.743'),\n",
       " Text(0.8846153846153846, 0.2777777777777778, 'Marketing Spend <= 225796.754\\nsquared_error = 34208.352\\nsamples = 2\\nvalue = 155937.555'),\n",
       " Text(0.8653846153846154, 0.16666666666666666, 'squared_error = 0.0\\nsamples = 1\\nvalue = 156122.51'),\n",
       " Text(0.9038461538461539, 0.16666666666666666, 'squared_error = 0.0\\nsamples = 1\\nvalue = 155752.6'),\n",
       " Text(0.9230769230769231, 0.2777777777777778, 'squared_error = -0.0\\nsamples = 1\\nvalue = 156991.12'),\n",
       " Text(0.9230769230769231, 0.7222222222222222, 'R&D Spend <= 148906.961\\nsquared_error = 14704669.819\\nsamples = 4\\nvalue = 189501.568'),\n",
       " Text(0.9038461538461539, 0.6111111111111112, 'squared_error = 0.0\\nsamples = 1\\nvalue = 182901.99'),\n",
       " Text(0.9423076923076923, 0.6111111111111112, 'Administration <= 119021.672\\nsquared_error = 248705.013\\nsamples = 3\\nvalue = 191701.427'),\n",
       " Text(0.9230769230769231, 0.5, 'squared_error = 0.0\\nsamples = 1\\nvalue = 191050.39'),\n",
       " Text(0.9615384615384616, 0.5, 'R&D Spend <= 163973.453\\nsquared_error = 55170.963\\nsamples = 2\\nvalue = 192026.945'),\n",
       " Text(0.9423076923076923, 0.3888888888888889, 'squared_error = 0.0\\nsamples = 1\\nvalue = 191792.06'),\n",
       " Text(0.9807692307692307, 0.3888888888888889, 'squared_error = -0.0\\nsamples = 1\\nvalue = 192261.83')]"
      ]
     },
     "execution_count": 181,
     "metadata": {},
     "output_type": "execute_result"
    },
    {
     "data": {
      "image/png": "[encoded data removed]",
      "text/plain": [
       "<Figure size 640x480 with 1 Axes>"
      ]
     },
     "metadata": {},
     "output_type": "display_data"
    }
   ],
   "source": [
    "plot_tree(dt_regressor, feature_names=x.columns,filled=True)"
   ]
  },
  {
   "cell_type": "code",
   "execution_count": 183,
   "id": "d0a44026-03d9-447e-a10e-0d74df77bdf6",
   "metadata": {},
   "outputs": [
    {
     "data": {
      "text/plain": [
       "Text(0.5, 1.0, 'Decision Tree Viaualization')"
      ]
     },
     "execution_count": 183,
     "metadata": {},
     "output_type": "execute_result"
    },
    {
     "data": {
      "image/png": "[encoded data removed]",
      "text/plain": [
       "<Figure size 640x480 with 1 Axes>"
      ]
     },
     "metadata": {},
     "output_type": "display_data"
    }
   ],
   "source": [
    "plt.title('Decision Tree Viaualization')"
   ]
  },
  {
   "cell_type": "code",
   "execution_count": 238,
   "id": "d16c1af9-2adf-4569-a330-9a9f5139861a",
   "metadata": {},
   "outputs": [],
   "source": [
    "plt.show()"
   ]
  },
  {
   "cell_type": "code",
   "execution_count": null,
   "id": "431373cf-a0d9-4a6d-aa00-4e8b785baf03",
   "metadata": {},
   "outputs": [],
   "source": []
  }
 ],
 "metadata": {
  "kernelspec": {
   "display_name": "Python 3 (ipykernel)",
   "language": "python",
   "name": "python3"
  },
  "language_info": {
   "codemirror_mode": {
    "name": "ipython",
    "version": 3
   },
   "file_extension": ".py",
   "mimetype": "text/x-python",
   "name": "python",
   "nbconvert_exporter": "python",
   "pygments_lexer": "ipython3",
   "version": "3.12.4"
  }
 },
 "nbformat": 4,
 "nbformat_minor": 5
}
